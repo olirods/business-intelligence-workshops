{
  "cells": [
    {
      "cell_type": "markdown",
      "metadata": {
        "id": "7Jfiq7549pKP"
      },
      "source": [
        "The next cell downloads the required data set to carry out the workshop. This kind of code only works on Google Colab, and if you are using another platform to run the notebook, you will need to manually download the data directory from the GitHub repository and put it in the same path as the notebook file."
      ]
    },
    {
      "cell_type": "code",
      "execution_count": 2,
      "metadata": {
        "id": "l9daAZp49pKU",
        "colab": {
          "base_uri": "https://localhost:8080/"
        },
        "outputId": "9730b272-d60c-438d-e5d4-d3153c83a9a9"
      },
      "outputs": [
        {
          "output_type": "stream",
          "name": "stdout",
          "text": [
            "--2022-12-17 22:19:40--  https://github.com/jandion/APSV-BusinessIntelligence/archive/refs/heads/main.zip\n",
            "Resolving github.com (github.com)... 140.82.112.3\n",
            "Connecting to github.com (github.com)|140.82.112.3|:443... connected.\n",
            "HTTP request sent, awaiting response... 302 Found\n",
            "Location: https://codeload.github.com/jandion/APSV-BusinessIntelligence/zip/refs/heads/main [following]\n",
            "--2022-12-17 22:19:40--  https://codeload.github.com/jandion/APSV-BusinessIntelligence/zip/refs/heads/main\n",
            "Resolving codeload.github.com (codeload.github.com)... 140.82.113.9\n",
            "Connecting to codeload.github.com (codeload.github.com)|140.82.113.9|:443... connected.\n",
            "HTTP request sent, awaiting response... 200 OK\n",
            "Length: unspecified [application/zip]\n",
            "Saving to: ‘main.zip’\n",
            "\n",
            "main.zip                [  <=>               ]  14.96M  11.5MB/s    in 1.3s    \n",
            "\n",
            "2022-12-17 22:19:41 (11.5 MB/s) - ‘main.zip’ saved [15691344]\n",
            "\n",
            "Archive:  main.zip\n",
            "4cabea09456a143b49ce229fb224416d607235d4\n",
            "   creating: APSV-BusinessIntelligence-main/\n",
            "  inflating: APSV-BusinessIntelligence-main/.gitignore  \n",
            "  inflating: APSV-BusinessIntelligence-main/Data exploration and visualization.ipynb  \n",
            "  inflating: APSV-BusinessIntelligence-main/Introduction to Python.ipynb  \n",
            "  inflating: APSV-BusinessIntelligence-main/Machine Learning.ipynb  \n",
            " extracting: APSV-BusinessIntelligence-main/README.md  \n",
            "   creating: APSV-BusinessIntelligence-main/data/\n",
            "  inflating: APSV-BusinessIntelligence-main/data/customers.json  \n",
            "  inflating: APSV-BusinessIntelligence-main/data/orders.csv  \n",
            " extracting: APSV-BusinessIntelligence-main/data/packages.zip  \n",
            "  inflating: APSV-BusinessIntelligence-main/data/trains.zip  \n"
          ]
        }
      ],
      "source": [
        "!wget -O main.zip https://github.com/jandion/APSV-BusinessIntelligence/archive/refs/heads/main.zip\n",
        "!unzip main.zip\n",
        "!rm -rf data\n",
        "!mv APSV-BusinessIntelligence-main/data .\n",
        "!rm -r APSV-BusinessIntelligence-main main.zip"
      ]
    },
    {
      "cell_type": "markdown",
      "metadata": {
        "id": "hbOYn1i79pKW"
      },
      "source": [
        "In this workshop, we will work with a set of data obtained from a real logistics process. These data contain events of a logistics process in which a series of goods or items are transported from one station to another by train. Trains move wagons in which various items can be transported. For each event, 3 instants of time are recorded:\n",
        "1. The time in which the event is planned\n",
        "2. The time at which the event was estimated.\n",
        "3. The time at which the event actually occurred.\n",
        "\n",
        "The fields in the data set have been anonymized, except for the times and descriptions of the events. The types of events appear in Spanish; the following table is a translation of these into English:\n",
        "\n",
        "Spanish | English\n",
        "---|---\n",
        "'EXPEDICION DE VAGONES'          | 'EXPEDITION OF WAGONS'\n",
        "'FIN DE CARGA DE VAGONES'        | 'END OF WAGON LOADING'\n",
        "'FIN DE DESCARGA DE VAGONES'     | 'END OF WAGON UNLOADING'\n",
        "'LLEGADA A DESTINO DE VAGONES'   | 'ARRIVAL AT DESTINATION OF WAGONS'\n",
        "'LLEGADA DE MERCANCIAS'          | 'ARRIVAL OF ITEMS'\n",
        "'LLEGADA DE VAGONES'             | 'ARRIVAL OF WAGONS'\n",
        "'SALIDA DE VAGONES'              | 'DEPARTURE OF WAGONS'\n",
        "\n",
        "Our goal is to obtain as much information as we can from this data set. We will achieve this in two ways: we will answer questions with numeric values (e.g. how many trains take part in the proccess?) or we will generate some charts to present information in a visual way (e.g. how is the distribution of items transported throughout the year?)\n"
      ]
    },
    {
      "cell_type": "code",
      "execution_count": 3,
      "metadata": {
        "id": "vcF50QvT9pKX"
      },
      "outputs": [],
      "source": [
        "import pandas as pd\n",
        "import numpy as np\n",
        "import matplotlib.pyplot as plt\n",
        "import seaborn as sns\n",
        "data = pd.read_csv(\"data/trains.zip\")"
      ]
    },
    {
      "cell_type": "markdown",
      "metadata": {
        "id": "c857PEBj9pKY"
      },
      "source": [
        "# Dataset exploration\n",
        "Any project related to data analysis starts with a study of the data itself. \n",
        "* What kind of data do we have?\n",
        "* How is it organized? How many columns have each dataframe?\n",
        "* Are there wrong or missing values?\n",
        "* What does each value of a column mean? How many different values are in each column?\n",
        "\n",
        "With the examples we saw in the previous workshop we try to answer those questions."
      ]
    },
    {
      "cell_type": "code",
      "execution_count": 4,
      "metadata": {
        "scrolled": true,
        "id": "_BhMl8X79pKZ",
        "colab": {
          "base_uri": "https://localhost:8080/"
        },
        "outputId": "9216dc90-2ac5-4f5a-eef6-1d9399e2d290"
      },
      "outputs": [
        {
          "output_type": "execute_result",
          "data": {
            "text/plain": [
              "count       2213865\n",
              "unique            9\n",
              "top       STATION 3\n",
              "freq         967324\n",
              "Name: event_location, dtype: object"
            ]
          },
          "metadata": {},
          "execution_count": 4
        }
      ],
      "source": [
        "data.event_location.describe()"
      ]
    },
    {
      "cell_type": "code",
      "execution_count": 5,
      "metadata": {
        "id": "K_DH8Px49pKZ",
        "colab": {
          "base_uri": "https://localhost:8080/"
        },
        "outputId": "fe9fde79-dfc2-4456-90df-061cba98d5aa"
      },
      "outputs": [
        {
          "output_type": "stream",
          "name": "stdout",
          "text": [
            "<class 'pandas.core.frame.DataFrame'>\n",
            "RangeIndex: 2213866 entries, 0 to 2213865\n",
            "Data columns (total 13 columns):\n",
            " #   Column          Non-Null Count    Dtype  \n",
            "---  ------          --------------    -----  \n",
            " 0   Unnamed: 0      2213866 non-null  int64  \n",
            " 1   item_id         2213865 non-null  float64\n",
            " 2   container_type  2213863 non-null  object \n",
            " 3   container_id    2213865 non-null  float64\n",
            " 4   client          2213865 non-null  object \n",
            " 5   event_type      2213862 non-null  object \n",
            " 6   event_location  2213865 non-null  object \n",
            " 7   sheduled_date   2213864 non-null  object \n",
            " 8   estimated_date  2213866 non-null  object \n",
            " 9   actual_date     2213863 non-null  object \n",
            " 10  origin          2213861 non-null  object \n",
            " 11  train_id        2213865 non-null  object \n",
            " 12  destination     2213861 non-null  object \n",
            "dtypes: float64(2), int64(1), object(10)\n",
            "memory usage: 219.6+ MB\n"
          ]
        }
      ],
      "source": [
        "data.info(show_counts=True)"
      ]
    },
    {
      "cell_type": "code",
      "execution_count": 6,
      "metadata": {
        "id": "99rx-5vC9pKa",
        "colab": {
          "base_uri": "https://localhost:8080/",
          "height": 300
        },
        "outputId": "48d23d92-9023-43ce-babb-fa4145b41d9e"
      },
      "outputs": [
        {
          "output_type": "execute_result",
          "data": {
            "text/plain": [
              "         Unnamed: 0       item_id  container_id\n",
              "count  2.213866e+06  2.213865e+06  2.213865e+06\n",
              "mean   1.106932e+06  1.887896e+05  9.655729e+08\n",
              "std    6.390882e+05  1.123321e+05  4.773801e+08\n",
              "min    0.000000e+00  0.000000e+00  0.000000e+00\n",
              "25%    5.534662e+05  9.229500e+04  1.202615e+09\n",
              "50%    1.106932e+06  1.844500e+05  1.202618e+09\n",
              "75%    1.660399e+06  2.834740e+05  1.203521e+09\n",
              "max    2.213865e+06  3.941940e+05  1.783082e+09"
            ],
            "text/html": [
              "\n",
              "  <div id=\"df-6e227dd5-1b89-4d81-bec9-b335b15bbe56\">\n",
              "    <div class=\"colab-df-container\">\n",
              "      <div>\n",
              "<style scoped>\n",
              "    .dataframe tbody tr th:only-of-type {\n",
              "        vertical-align: middle;\n",
              "    }\n",
              "\n",
              "    .dataframe tbody tr th {\n",
              "        vertical-align: top;\n",
              "    }\n",
              "\n",
              "    .dataframe thead th {\n",
              "        text-align: right;\n",
              "    }\n",
              "</style>\n",
              "<table border=\"1\" class=\"dataframe\">\n",
              "  <thead>\n",
              "    <tr style=\"text-align: right;\">\n",
              "      <th></th>\n",
              "      <th>Unnamed: 0</th>\n",
              "      <th>item_id</th>\n",
              "      <th>container_id</th>\n",
              "    </tr>\n",
              "  </thead>\n",
              "  <tbody>\n",
              "    <tr>\n",
              "      <th>count</th>\n",
              "      <td>2.213866e+06</td>\n",
              "      <td>2.213865e+06</td>\n",
              "      <td>2.213865e+06</td>\n",
              "    </tr>\n",
              "    <tr>\n",
              "      <th>mean</th>\n",
              "      <td>1.106932e+06</td>\n",
              "      <td>1.887896e+05</td>\n",
              "      <td>9.655729e+08</td>\n",
              "    </tr>\n",
              "    <tr>\n",
              "      <th>std</th>\n",
              "      <td>6.390882e+05</td>\n",
              "      <td>1.123321e+05</td>\n",
              "      <td>4.773801e+08</td>\n",
              "    </tr>\n",
              "    <tr>\n",
              "      <th>min</th>\n",
              "      <td>0.000000e+00</td>\n",
              "      <td>0.000000e+00</td>\n",
              "      <td>0.000000e+00</td>\n",
              "    </tr>\n",
              "    <tr>\n",
              "      <th>25%</th>\n",
              "      <td>5.534662e+05</td>\n",
              "      <td>9.229500e+04</td>\n",
              "      <td>1.202615e+09</td>\n",
              "    </tr>\n",
              "    <tr>\n",
              "      <th>50%</th>\n",
              "      <td>1.106932e+06</td>\n",
              "      <td>1.844500e+05</td>\n",
              "      <td>1.202618e+09</td>\n",
              "    </tr>\n",
              "    <tr>\n",
              "      <th>75%</th>\n",
              "      <td>1.660399e+06</td>\n",
              "      <td>2.834740e+05</td>\n",
              "      <td>1.203521e+09</td>\n",
              "    </tr>\n",
              "    <tr>\n",
              "      <th>max</th>\n",
              "      <td>2.213865e+06</td>\n",
              "      <td>3.941940e+05</td>\n",
              "      <td>1.783082e+09</td>\n",
              "    </tr>\n",
              "  </tbody>\n",
              "</table>\n",
              "</div>\n",
              "      <button class=\"colab-df-convert\" onclick=\"convertToInteractive('df-6e227dd5-1b89-4d81-bec9-b335b15bbe56')\"\n",
              "              title=\"Convert this dataframe to an interactive table.\"\n",
              "              style=\"display:none;\">\n",
              "        \n",
              "  <svg xmlns=\"http://www.w3.org/2000/svg\" height=\"24px\"viewBox=\"0 0 24 24\"\n",
              "       width=\"24px\">\n",
              "    <path d=\"M0 0h24v24H0V0z\" fill=\"none\"/>\n",
              "    <path d=\"M18.56 5.44l.94 2.06.94-2.06 2.06-.94-2.06-.94-.94-2.06-.94 2.06-2.06.94zm-11 1L8.5 8.5l.94-2.06 2.06-.94-2.06-.94L8.5 2.5l-.94 2.06-2.06.94zm10 10l.94 2.06.94-2.06 2.06-.94-2.06-.94-.94-2.06-.94 2.06-2.06.94z\"/><path d=\"M17.41 7.96l-1.37-1.37c-.4-.4-.92-.59-1.43-.59-.52 0-1.04.2-1.43.59L10.3 9.45l-7.72 7.72c-.78.78-.78 2.05 0 2.83L4 21.41c.39.39.9.59 1.41.59.51 0 1.02-.2 1.41-.59l7.78-7.78 2.81-2.81c.8-.78.8-2.07 0-2.86zM5.41 20L4 18.59l7.72-7.72 1.47 1.35L5.41 20z\"/>\n",
              "  </svg>\n",
              "      </button>\n",
              "      \n",
              "  <style>\n",
              "    .colab-df-container {\n",
              "      display:flex;\n",
              "      flex-wrap:wrap;\n",
              "      gap: 12px;\n",
              "    }\n",
              "\n",
              "    .colab-df-convert {\n",
              "      background-color: #E8F0FE;\n",
              "      border: none;\n",
              "      border-radius: 50%;\n",
              "      cursor: pointer;\n",
              "      display: none;\n",
              "      fill: #1967D2;\n",
              "      height: 32px;\n",
              "      padding: 0 0 0 0;\n",
              "      width: 32px;\n",
              "    }\n",
              "\n",
              "    .colab-df-convert:hover {\n",
              "      background-color: #E2EBFA;\n",
              "      box-shadow: 0px 1px 2px rgba(60, 64, 67, 0.3), 0px 1px 3px 1px rgba(60, 64, 67, 0.15);\n",
              "      fill: #174EA6;\n",
              "    }\n",
              "\n",
              "    [theme=dark] .colab-df-convert {\n",
              "      background-color: #3B4455;\n",
              "      fill: #D2E3FC;\n",
              "    }\n",
              "\n",
              "    [theme=dark] .colab-df-convert:hover {\n",
              "      background-color: #434B5C;\n",
              "      box-shadow: 0px 1px 3px 1px rgba(0, 0, 0, 0.15);\n",
              "      filter: drop-shadow(0px 1px 2px rgba(0, 0, 0, 0.3));\n",
              "      fill: #FFFFFF;\n",
              "    }\n",
              "  </style>\n",
              "\n",
              "      <script>\n",
              "        const buttonEl =\n",
              "          document.querySelector('#df-6e227dd5-1b89-4d81-bec9-b335b15bbe56 button.colab-df-convert');\n",
              "        buttonEl.style.display =\n",
              "          google.colab.kernel.accessAllowed ? 'block' : 'none';\n",
              "\n",
              "        async function convertToInteractive(key) {\n",
              "          const element = document.querySelector('#df-6e227dd5-1b89-4d81-bec9-b335b15bbe56');\n",
              "          const dataTable =\n",
              "            await google.colab.kernel.invokeFunction('convertToInteractive',\n",
              "                                                     [key], {});\n",
              "          if (!dataTable) return;\n",
              "\n",
              "          const docLinkHtml = 'Like what you see? Visit the ' +\n",
              "            '<a target=\"_blank\" href=https://colab.research.google.com/notebooks/data_table.ipynb>data table notebook</a>'\n",
              "            + ' to learn more about interactive tables.';\n",
              "          element.innerHTML = '';\n",
              "          dataTable['output_type'] = 'display_data';\n",
              "          await google.colab.output.renderOutput(dataTable, element);\n",
              "          const docLink = document.createElement('div');\n",
              "          docLink.innerHTML = docLinkHtml;\n",
              "          element.appendChild(docLink);\n",
              "        }\n",
              "      </script>\n",
              "    </div>\n",
              "  </div>\n",
              "  "
            ]
          },
          "metadata": {},
          "execution_count": 6
        }
      ],
      "source": [
        "data.describe()"
      ]
    },
    {
      "cell_type": "code",
      "source": [
        "data.head()"
      ],
      "metadata": {
        "colab": {
          "base_uri": "https://localhost:8080/",
          "height": 206
        },
        "id": "L7ylP0yVAVuh",
        "outputId": "4ddd4daf-5c8d-4663-a0fb-ba384d2caa67"
      },
      "execution_count": 7,
      "outputs": [
        {
          "output_type": "execute_result",
          "data": {
            "text/plain": [
              "   Unnamed: 0   item_id container_type  container_id    client  \\\n",
              "0           0  258641.0         WAGGON  1.204491e+09  CLIENT_2   \n",
              "1           1  258641.0         WAGGON  1.204491e+09  CLIENT_2   \n",
              "2           2  258641.0         WAGGON  1.204491e+09  CLIENT_2   \n",
              "3           3  258641.0         WAGGON  1.204491e+09  CLIENT_2   \n",
              "4           4  260068.0         WAGGON  1.204491e+09  CLIENT_2   \n",
              "\n",
              "                     event_type event_location        sheduled_date  \\\n",
              "0         EXPEDICION DE VAGONES      STATION 4  2017-01-27 12:00:00   \n",
              "1             SALIDA DE VAGONES      STATION 4  2017-01-27 21:55:00   \n",
              "2  LLEGADA A DESTINO DE VAGONES      STATION 1  2017-01-28 07:00:00   \n",
              "3    FIN DE DESCARGA DE VAGONES      STATION 1  2017-01-30 18:10:00   \n",
              "4         EXPEDICION DE VAGONES      STATION 4  2017-01-27 12:00:00   \n",
              "\n",
              "        estimated_date          actual_date       origin train_id  destination  \n",
              "0  2017-01-27 12:00:00  2017-01-27 12:00:00  LOCATION 25  TRAIN 3  LOCATION 10  \n",
              "1  2017-01-27 21:55:00  2017-01-31 21:55:00  LOCATION 25  TRAIN 3  LOCATION 10  \n",
              "2  2017-01-28 07:50:00  2017-01-31 07:50:00  LOCATION 25  TRAIN 3  LOCATION 10  \n",
              "3  2017-01-28 19:00:00  2017-01-31 18:10:00  LOCATION 25  TRAIN 3  LOCATION 10  \n",
              "4  2017-01-27 12:00:00  2017-01-27 12:00:00  LOCATION 25  TRAIN 3  LOCATION 10  "
            ],
            "text/html": [
              "\n",
              "  <div id=\"df-0815bd07-4bc3-46cf-b46e-0498448f0031\">\n",
              "    <div class=\"colab-df-container\">\n",
              "      <div>\n",
              "<style scoped>\n",
              "    .dataframe tbody tr th:only-of-type {\n",
              "        vertical-align: middle;\n",
              "    }\n",
              "\n",
              "    .dataframe tbody tr th {\n",
              "        vertical-align: top;\n",
              "    }\n",
              "\n",
              "    .dataframe thead th {\n",
              "        text-align: right;\n",
              "    }\n",
              "</style>\n",
              "<table border=\"1\" class=\"dataframe\">\n",
              "  <thead>\n",
              "    <tr style=\"text-align: right;\">\n",
              "      <th></th>\n",
              "      <th>Unnamed: 0</th>\n",
              "      <th>item_id</th>\n",
              "      <th>container_type</th>\n",
              "      <th>container_id</th>\n",
              "      <th>client</th>\n",
              "      <th>event_type</th>\n",
              "      <th>event_location</th>\n",
              "      <th>sheduled_date</th>\n",
              "      <th>estimated_date</th>\n",
              "      <th>actual_date</th>\n",
              "      <th>origin</th>\n",
              "      <th>train_id</th>\n",
              "      <th>destination</th>\n",
              "    </tr>\n",
              "  </thead>\n",
              "  <tbody>\n",
              "    <tr>\n",
              "      <th>0</th>\n",
              "      <td>0</td>\n",
              "      <td>258641.0</td>\n",
              "      <td>WAGGON</td>\n",
              "      <td>1.204491e+09</td>\n",
              "      <td>CLIENT_2</td>\n",
              "      <td>EXPEDICION DE VAGONES</td>\n",
              "      <td>STATION 4</td>\n",
              "      <td>2017-01-27 12:00:00</td>\n",
              "      <td>2017-01-27 12:00:00</td>\n",
              "      <td>2017-01-27 12:00:00</td>\n",
              "      <td>LOCATION 25</td>\n",
              "      <td>TRAIN 3</td>\n",
              "      <td>LOCATION 10</td>\n",
              "    </tr>\n",
              "    <tr>\n",
              "      <th>1</th>\n",
              "      <td>1</td>\n",
              "      <td>258641.0</td>\n",
              "      <td>WAGGON</td>\n",
              "      <td>1.204491e+09</td>\n",
              "      <td>CLIENT_2</td>\n",
              "      <td>SALIDA DE VAGONES</td>\n",
              "      <td>STATION 4</td>\n",
              "      <td>2017-01-27 21:55:00</td>\n",
              "      <td>2017-01-27 21:55:00</td>\n",
              "      <td>2017-01-31 21:55:00</td>\n",
              "      <td>LOCATION 25</td>\n",
              "      <td>TRAIN 3</td>\n",
              "      <td>LOCATION 10</td>\n",
              "    </tr>\n",
              "    <tr>\n",
              "      <th>2</th>\n",
              "      <td>2</td>\n",
              "      <td>258641.0</td>\n",
              "      <td>WAGGON</td>\n",
              "      <td>1.204491e+09</td>\n",
              "      <td>CLIENT_2</td>\n",
              "      <td>LLEGADA A DESTINO DE VAGONES</td>\n",
              "      <td>STATION 1</td>\n",
              "      <td>2017-01-28 07:00:00</td>\n",
              "      <td>2017-01-28 07:50:00</td>\n",
              "      <td>2017-01-31 07:50:00</td>\n",
              "      <td>LOCATION 25</td>\n",
              "      <td>TRAIN 3</td>\n",
              "      <td>LOCATION 10</td>\n",
              "    </tr>\n",
              "    <tr>\n",
              "      <th>3</th>\n",
              "      <td>3</td>\n",
              "      <td>258641.0</td>\n",
              "      <td>WAGGON</td>\n",
              "      <td>1.204491e+09</td>\n",
              "      <td>CLIENT_2</td>\n",
              "      <td>FIN DE DESCARGA DE VAGONES</td>\n",
              "      <td>STATION 1</td>\n",
              "      <td>2017-01-30 18:10:00</td>\n",
              "      <td>2017-01-28 19:00:00</td>\n",
              "      <td>2017-01-31 18:10:00</td>\n",
              "      <td>LOCATION 25</td>\n",
              "      <td>TRAIN 3</td>\n",
              "      <td>LOCATION 10</td>\n",
              "    </tr>\n",
              "    <tr>\n",
              "      <th>4</th>\n",
              "      <td>4</td>\n",
              "      <td>260068.0</td>\n",
              "      <td>WAGGON</td>\n",
              "      <td>1.204491e+09</td>\n",
              "      <td>CLIENT_2</td>\n",
              "      <td>EXPEDICION DE VAGONES</td>\n",
              "      <td>STATION 4</td>\n",
              "      <td>2017-01-27 12:00:00</td>\n",
              "      <td>2017-01-27 12:00:00</td>\n",
              "      <td>2017-01-27 12:00:00</td>\n",
              "      <td>LOCATION 25</td>\n",
              "      <td>TRAIN 3</td>\n",
              "      <td>LOCATION 10</td>\n",
              "    </tr>\n",
              "  </tbody>\n",
              "</table>\n",
              "</div>\n",
              "      <button class=\"colab-df-convert\" onclick=\"convertToInteractive('df-0815bd07-4bc3-46cf-b46e-0498448f0031')\"\n",
              "              title=\"Convert this dataframe to an interactive table.\"\n",
              "              style=\"display:none;\">\n",
              "        \n",
              "  <svg xmlns=\"http://www.w3.org/2000/svg\" height=\"24px\"viewBox=\"0 0 24 24\"\n",
              "       width=\"24px\">\n",
              "    <path d=\"M0 0h24v24H0V0z\" fill=\"none\"/>\n",
              "    <path d=\"M18.56 5.44l.94 2.06.94-2.06 2.06-.94-2.06-.94-.94-2.06-.94 2.06-2.06.94zm-11 1L8.5 8.5l.94-2.06 2.06-.94-2.06-.94L8.5 2.5l-.94 2.06-2.06.94zm10 10l.94 2.06.94-2.06 2.06-.94-2.06-.94-.94-2.06-.94 2.06-2.06.94z\"/><path d=\"M17.41 7.96l-1.37-1.37c-.4-.4-.92-.59-1.43-.59-.52 0-1.04.2-1.43.59L10.3 9.45l-7.72 7.72c-.78.78-.78 2.05 0 2.83L4 21.41c.39.39.9.59 1.41.59.51 0 1.02-.2 1.41-.59l7.78-7.78 2.81-2.81c.8-.78.8-2.07 0-2.86zM5.41 20L4 18.59l7.72-7.72 1.47 1.35L5.41 20z\"/>\n",
              "  </svg>\n",
              "      </button>\n",
              "      \n",
              "  <style>\n",
              "    .colab-df-container {\n",
              "      display:flex;\n",
              "      flex-wrap:wrap;\n",
              "      gap: 12px;\n",
              "    }\n",
              "\n",
              "    .colab-df-convert {\n",
              "      background-color: #E8F0FE;\n",
              "      border: none;\n",
              "      border-radius: 50%;\n",
              "      cursor: pointer;\n",
              "      display: none;\n",
              "      fill: #1967D2;\n",
              "      height: 32px;\n",
              "      padding: 0 0 0 0;\n",
              "      width: 32px;\n",
              "    }\n",
              "\n",
              "    .colab-df-convert:hover {\n",
              "      background-color: #E2EBFA;\n",
              "      box-shadow: 0px 1px 2px rgba(60, 64, 67, 0.3), 0px 1px 3px 1px rgba(60, 64, 67, 0.15);\n",
              "      fill: #174EA6;\n",
              "    }\n",
              "\n",
              "    [theme=dark] .colab-df-convert {\n",
              "      background-color: #3B4455;\n",
              "      fill: #D2E3FC;\n",
              "    }\n",
              "\n",
              "    [theme=dark] .colab-df-convert:hover {\n",
              "      background-color: #434B5C;\n",
              "      box-shadow: 0px 1px 3px 1px rgba(0, 0, 0, 0.15);\n",
              "      filter: drop-shadow(0px 1px 2px rgba(0, 0, 0, 0.3));\n",
              "      fill: #FFFFFF;\n",
              "    }\n",
              "  </style>\n",
              "\n",
              "      <script>\n",
              "        const buttonEl =\n",
              "          document.querySelector('#df-0815bd07-4bc3-46cf-b46e-0498448f0031 button.colab-df-convert');\n",
              "        buttonEl.style.display =\n",
              "          google.colab.kernel.accessAllowed ? 'block' : 'none';\n",
              "\n",
              "        async function convertToInteractive(key) {\n",
              "          const element = document.querySelector('#df-0815bd07-4bc3-46cf-b46e-0498448f0031');\n",
              "          const dataTable =\n",
              "            await google.colab.kernel.invokeFunction('convertToInteractive',\n",
              "                                                     [key], {});\n",
              "          if (!dataTable) return;\n",
              "\n",
              "          const docLinkHtml = 'Like what you see? Visit the ' +\n",
              "            '<a target=\"_blank\" href=https://colab.research.google.com/notebooks/data_table.ipynb>data table notebook</a>'\n",
              "            + ' to learn more about interactive tables.';\n",
              "          element.innerHTML = '';\n",
              "          dataTable['output_type'] = 'display_data';\n",
              "          await google.colab.output.renderOutput(dataTable, element);\n",
              "          const docLink = document.createElement('div');\n",
              "          docLink.innerHTML = docLinkHtml;\n",
              "          element.appendChild(docLink);\n",
              "        }\n",
              "      </script>\n",
              "    </div>\n",
              "  </div>\n",
              "  "
            ]
          },
          "metadata": {},
          "execution_count": 7
        }
      ]
    },
    {
      "cell_type": "code",
      "source": [
        "data.destination.unique()"
      ],
      "metadata": {
        "colab": {
          "base_uri": "https://localhost:8080/"
        },
        "id": "Br8EpOdgGcdx",
        "outputId": "ed176ac3-65b1-4fb5-c97c-0d7c318590ce"
      },
      "execution_count": 8,
      "outputs": [
        {
          "output_type": "execute_result",
          "data": {
            "text/plain": [
              "array(['LOCATION 10', 'LOCATION 11', 'LOCATION 20', 'LOCATION 19',\n",
              "       'LOCATION 24', 'LOCATION 16', 'LOCATION 2', 'LOCATION 23',\n",
              "       'LOCATION 3', 'LOCATION 12', 'LOCATION 18', 'LOCATION 17', nan,\n",
              "       'LOCATION 5', 'LOCATION 9', 'LOCATION 22', 'LOCATION 6',\n",
              "       'LOCATION 7', 'LOCATION 4', 'LOCATION 8'], dtype=object)"
            ]
          },
          "metadata": {},
          "execution_count": 8
        }
      ]
    },
    {
      "cell_type": "code",
      "source": [
        "data.origin.unique()"
      ],
      "metadata": {
        "colab": {
          "base_uri": "https://localhost:8080/"
        },
        "id": "RLxLSnogGZAi",
        "outputId": "7dde4f08-2452-4db3-a698-c20113cac012"
      },
      "execution_count": 9,
      "outputs": [
        {
          "output_type": "execute_result",
          "data": {
            "text/plain": [
              "array(['LOCATION 25', 'LOCATION 21', 'LOCATION 14', 'LOCATION 13',\n",
              "       'LOCATION 1', nan, 'LOCATION 26', 'LOCATION 15'], dtype=object)"
            ]
          },
          "metadata": {},
          "execution_count": 9
        }
      ]
    },
    {
      "cell_type": "code",
      "source": [
        "data.origin.describe()"
      ],
      "metadata": {
        "colab": {
          "base_uri": "https://localhost:8080/"
        },
        "id": "8gvcFnD0GTd-",
        "outputId": "d983b39a-a09e-4bd6-88e9-6ba2abdafb49"
      },
      "execution_count": 10,
      "outputs": [
        {
          "output_type": "execute_result",
          "data": {
            "text/plain": [
              "count         2213861\n",
              "unique              7\n",
              "top       LOCATION 13\n",
              "freq           967327\n",
              "Name: origin, dtype: object"
            ]
          },
          "metadata": {},
          "execution_count": 10
        }
      ]
    },
    {
      "cell_type": "code",
      "source": [
        "data.event_location.unique()"
      ],
      "metadata": {
        "colab": {
          "base_uri": "https://localhost:8080/"
        },
        "id": "dY-RsGHIEeZ0",
        "outputId": "62f19379-2899-452e-def8-b390a7baa88d"
      },
      "execution_count": 11,
      "outputs": [
        {
          "output_type": "execute_result",
          "data": {
            "text/plain": [
              "array(['STATION 4', 'STATION 1', 'STATION 8', 'STATION 9', 'STATION 3',\n",
              "       'STATION 5', 'STATION 2', 'STATION 7', 'STATION 6', nan],\n",
              "      dtype=object)"
            ]
          },
          "metadata": {},
          "execution_count": 11
        }
      ]
    },
    {
      "cell_type": "code",
      "source": [
        "data.event_location.describe()"
      ],
      "metadata": {
        "colab": {
          "base_uri": "https://localhost:8080/"
        },
        "id": "xvs10y4cEWAr",
        "outputId": "a5d25c5c-9c4c-4f77-fba3-ba07b99754de"
      },
      "execution_count": 12,
      "outputs": [
        {
          "output_type": "execute_result",
          "data": {
            "text/plain": [
              "count       2213865\n",
              "unique            9\n",
              "top       STATION 3\n",
              "freq         967324\n",
              "Name: event_location, dtype: object"
            ]
          },
          "metadata": {},
          "execution_count": 12
        }
      ]
    },
    {
      "cell_type": "code",
      "source": [
        "data.client.unique()"
      ],
      "metadata": {
        "colab": {
          "base_uri": "https://localhost:8080/"
        },
        "id": "wp3VGkP9DeMW",
        "outputId": "746560a6-5bbf-409c-bdfe-5e206db9a303"
      },
      "execution_count": 13,
      "outputs": [
        {
          "output_type": "execute_result",
          "data": {
            "text/plain": [
              "array(['CLIENT_2', 'CLIENT_1', 'CLIENT_4', 'CLIENT_0', 'CLIENT_3', nan],\n",
              "      dtype=object)"
            ]
          },
          "metadata": {},
          "execution_count": 13
        }
      ]
    },
    {
      "cell_type": "code",
      "source": [
        "data.client.describe()"
      ],
      "metadata": {
        "colab": {
          "base_uri": "https://localhost:8080/"
        },
        "id": "aXfXGFtBBYst",
        "outputId": "188c9a79-1393-4a7d-ae6d-4b95efdd59a2"
      },
      "execution_count": 14,
      "outputs": [
        {
          "output_type": "execute_result",
          "data": {
            "text/plain": [
              "count      2213865\n",
              "unique           5\n",
              "top       CLIENT_1\n",
              "freq       1323006\n",
              "Name: client, dtype: object"
            ]
          },
          "metadata": {},
          "execution_count": 14
        }
      ]
    },
    {
      "cell_type": "code",
      "source": [
        "data.container_type.describe()"
      ],
      "metadata": {
        "colab": {
          "base_uri": "https://localhost:8080/"
        },
        "id": "wRxcn7fmCePt",
        "outputId": "520d7d45-9c10-4dc5-85bb-2b006a7dac88"
      },
      "execution_count": 15,
      "outputs": [
        {
          "output_type": "execute_result",
          "data": {
            "text/plain": [
              "count     2213863\n",
              "unique          1\n",
              "top        WAGGON\n",
              "freq      2213863\n",
              "Name: container_type, dtype: object"
            ]
          },
          "metadata": {},
          "execution_count": 15
        }
      ]
    },
    {
      "cell_type": "markdown",
      "metadata": {
        "id": "5fbJXGFq9pKb"
      },
      "source": [
        "# Data Cleaning\n",
        "After a first view of the data and before starting to work with it, we must clean it. This process is called preprocessing, and it is crucial to be able to obtain good results. We will discard invalid data, fill missing values, drop redundant information, correct typos, etc. We need to create a data set with the following restrictions.\n",
        "\n",
        "* All columns must contain relevant information.\n",
        "* Rows with null or incorrect values should be discarded unless these values can be retrieved in some way (https://pandas.pydata.org/pandas-docs/stable/user_guide/missing_data.html, https://pandas.pydata.org/docs/reference/api/pandas.DataFrame.dropna.html and https://pandas.pydata.org/docs/reference/api/pandas.DataFrame.fillna.html)\n",
        "* The types of the columns must correspond to the type of data they contain (https://pandas.pydata.org/pandas-docs/stable/reference/api/pandas.DataFrame.astype.html)\n",
        "\n",
        "Python and Pandas have a multitude of methods that make it easier to work with dates. In this workshop can be useful those that allow us to obtain certain fragments of a date (hour of day, the day of the week, etc.) https://docs.python.org/3/library/datetime.html. An effective way to apply a change to an entire column is with a syntax like `data.planned_date.dt.hour`, which allows us to get the hour of the dates in the column `planned_date`"
      ]
    },
    {
      "cell_type": "markdown",
      "source": [
        "### Coursework (Sergio Olivares)"
      ],
      "metadata": {
        "id": "cwin1EezOGgs"
      }
    },
    {
      "cell_type": "code",
      "source": [
        "clean_data = data"
      ],
      "metadata": {
        "id": "0FC5K6ziSwTX"
      },
      "execution_count": 4,
      "outputs": []
    },
    {
      "cell_type": "markdown",
      "source": [
        "First, we will remove some redundant columns:\n",
        "`Unnamed:0`, as it's an index that Pandas already gives us\n",
        "`container_type`, as its value is always \"WAGGON\", so it doesn't provide relevant information.\n",
        "Then, `container_id` can be renamed to `waggon_id`."
      ],
      "metadata": {
        "id": "IxLlQDgASyOH"
      }
    },
    {
      "cell_type": "code",
      "execution_count": 5,
      "metadata": {
        "id": "5bpuQRB59pKb"
      },
      "outputs": [],
      "source": [
        "clean_data.drop(columns=['Unnamed: 0', 'container_type'], inplace=True)\n",
        "clean_data.rename(columns={'container_id': 'waggon_id'}, inplace=True)"
      ]
    },
    {
      "cell_type": "markdown",
      "source": [
        "Second, we need to try to fill the empty values when the information can be inferred. Nevertheless, before doing that, we need to normalize all the \"empty\" values. We want them to be NaN, but, for example, there are some `0` values in `waggon_id` column. We'll transform them to NaN."
      ],
      "metadata": {
        "id": "b8EuXFu8aIIf"
      }
    },
    {
      "cell_type": "code",
      "source": [
        "clean_data.replace(0, np.nan, inplace=True)\n"
      ],
      "metadata": {
        "id": "vjkKqBGliK7-"
      },
      "execution_count": 6,
      "outputs": []
    },
    {
      "cell_type": "code",
      "source": [
        "clean_data.sort_values(by='item_id', inplace=True)\n",
        "clean_data[['waggon_id', 'client', 'origin', 'train_id', 'destination']] = clean_data[['waggon_id', 'client', 'origin', 'train_id', 'destination']].fillna(method='ffill')"
      ],
      "metadata": {
        "id": "rKxARIc7aMO0"
      },
      "execution_count": 7,
      "outputs": []
    },
    {
      "cell_type": "markdown",
      "source": [
        "The rest of rows with some empty value that cannot be inferred will be discarded."
      ],
      "metadata": {
        "id": "-qXpNXCkDg_-"
      }
    },
    {
      "cell_type": "code",
      "source": [
        "clean_data.dropna(inplace=True)"
      ],
      "metadata": {
        "id": "YGHMotKXC1AD"
      },
      "execution_count": 8,
      "outputs": []
    },
    {
      "cell_type": "markdown",
      "source": [
        "Columns `client`, `event_location`, `origin`, `destination` and `train_id` contains the same format for values: name + id. Then, these 4 could be transformed to integer type. Names will also be changed to proper ones: `client_id`, `station_id` (event locations are all stations), `origin_location_id` and `destination_location_id` (all origin/destinations are \"LOCATION X\")"
      ],
      "metadata": {
        "id": "6dA5dew8P3jk"
      }
    },
    {
      "cell_type": "code",
      "source": [
        "def remove_title(value):\n",
        "  title_and_id = value.replace('_', ' ').split()\n",
        "  return int(title_and_id[1])\n",
        "\n",
        "clean_data.client = clean_data.client.apply(remove_title)\n",
        "clean_data.event_location = clean_data.event_location.apply(remove_title)\n",
        "clean_data.origin = clean_data.origin.apply(remove_title)\n",
        "clean_data.destination = clean_data.destination.apply(remove_title)\n",
        "clean_data.train_id = clean_data.train_id.apply(remove_title)\n"
      ],
      "metadata": {
        "id": "AP_fCFudRG3d"
      },
      "execution_count": 9,
      "outputs": []
    },
    {
      "cell_type": "code",
      "source": [
        "clean_data.rename(columns={\"client\": \"client_id\", \"event_location\": \"station_id\", \"origin\": \"origin_location_id\", \"destination\": \"destination_location_id\", \"sheduled_date\": \"scheduled_date\"}, inplace=True)"
      ],
      "metadata": {
        "id": "m5XyPx3QK0S_"
      },
      "execution_count": 10,
      "outputs": []
    },
    {
      "cell_type": "markdown",
      "source": [
        "Now it's time to set the proper types for each column. All the ids will be transformed to integers, the dates to datetime64 and the event type to category type."
      ],
      "metadata": {
        "id": "arvQ5ysbQZ_A"
      }
    },
    {
      "cell_type": "code",
      "source": [
        "clean_data.item_id = clean_data.item_id.astype('int')\n",
        "clean_data.waggon_id = clean_data.waggon_id.astype('int')\n",
        "clean_data.event_type = clean_data.event_type.astype('category')\n",
        "clean_data.scheduled_date = clean_data.scheduled_date.astype('datetime64[ns]')\n",
        "clean_data.estimated_date = clean_data.estimated_date.astype('datetime64[ns]')\n",
        "clean_data.actual_date = clean_data.actual_date.astype('datetime64[ns]')\n"
      ],
      "metadata": {
        "id": "BV5-JS7oJuLx"
      },
      "execution_count": 11,
      "outputs": []
    },
    {
      "cell_type": "markdown",
      "source": [
        "For the event type, the values will be translated to English to maintain a same language for all the data:"
      ],
      "metadata": {
        "id": "2Oa6AT4NQh_M"
      }
    },
    {
      "cell_type": "code",
      "source": [
        "clean_data.event_type.cat.rename_categories({'EXPEDICION DE VAGONES': 'EXPEDITION OF WAGONS', 'FIN DE CARGA DE VAGONES': 'END OF WAGON LOADING', 'FIN DE DESCARGA DE VAGONES': 'END OF WAGON UNLOADING', 'LLEGADA A DESTINO DE VAGONES': 'ARRIVAL AT DESTINATION OF WAGONS', 'LLEGADA DE MERCANCIAS': 'ARRIVAL OF ITEMS', 'LLEGADA DE VAGONES': 'ARRIVAL OF WAGONS', 'SALIDA DE VAGONES': \t'DEPARTURE OF WAGONS'}, inplace=True)"
      ],
      "metadata": {
        "colab": {
          "base_uri": "https://localhost:8080/"
        },
        "id": "k2HIJ3U8QnQk",
        "outputId": "86faa8f0-caab-4a89-966a-1e9bd292fe03"
      },
      "execution_count": 12,
      "outputs": [
        {
          "output_type": "stream",
          "name": "stderr",
          "text": [
            "/usr/local/lib/python3.8/dist-packages/pandas/core/arrays/categorical.py:2631: FutureWarning: The `inplace` parameter in pandas.Categorical.rename_categories is deprecated and will be removed in a future version. Removing unused categories will always return a new Categorical object.\n",
            "  res = method(*args, **kwargs)\n"
          ]
        }
      ]
    },
    {
      "cell_type": "markdown",
      "source": [
        "Finally, we will sort them in a more logical and easy-to-see way:"
      ],
      "metadata": {
        "id": "gCifVB97O6UI"
      }
    },
    {
      "cell_type": "code",
      "source": [
        "clean_data = clean_data[['event_type', 'station_id', 'scheduled_date', 'estimated_date', 'actual_date', 'item_id', 'waggon_id', 'train_id', 'origin_location_id', 'destination_location_id', 'client_id']]"
      ],
      "metadata": {
        "id": "Tt2SboENMOJK"
      },
      "execution_count": 13,
      "outputs": []
    },
    {
      "cell_type": "code",
      "source": [
        "clean_data.head()"
      ],
      "metadata": {
        "colab": {
          "base_uri": "https://localhost:8080/",
          "height": 206
        },
        "id": "Idqay7s4RqJy",
        "outputId": "d780637d-603e-41ae-d25b-71ee3b96ca6b"
      },
      "execution_count": 14,
      "outputs": [
        {
          "output_type": "execute_result",
          "data": {
            "text/plain": [
              "                               event_type  station_id      scheduled_date  \\\n",
              "1326876              EXPEDITION OF WAGONS           4 2018-08-02 12:00:00   \n",
              "1326877               DEPARTURE OF WAGONS           4 2018-08-02 13:40:00   \n",
              "1326878  ARRIVAL AT DESTINATION OF WAGONS           8 2018-08-03 07:00:00   \n",
              "1326879            END OF WAGON UNLOADING           8 2018-08-03 13:00:00   \n",
              "2106845                  ARRIVAL OF ITEMS           4 2018-07-26 07:00:00   \n",
              "\n",
              "             estimated_date         actual_date  item_id   waggon_id  \\\n",
              "1326876 2018-08-02 14:00:00 2018-08-02 14:00:00        1  1202617878   \n",
              "1326877 2018-08-02 15:07:00 2018-08-02 13:07:00        1  1202617878   \n",
              "1326878 2018-08-03 00:23:00 2018-08-02 22:56:00        1  1202617878   \n",
              "1326879 2018-08-03 14:00:00 2018-08-03 20:37:00        1  1202617878   \n",
              "2106845 2018-07-26 06:59:00 2018-07-27 01:48:00        1  1202617878   \n",
              "\n",
              "         train_id  origin_location_id  destination_location_id  client_id  \n",
              "1326876         4                  21                       20          2  \n",
              "1326877         4                  21                       20          2  \n",
              "1326878         4                  21                       20          2  \n",
              "1326879         4                  21                       20          2  \n",
              "2106845         4                  21                       20          2  "
            ],
            "text/html": [
              "\n",
              "  <div id=\"df-f1527272-49e4-4e79-be50-775d9bde2b59\">\n",
              "    <div class=\"colab-df-container\">\n",
              "      <div>\n",
              "<style scoped>\n",
              "    .dataframe tbody tr th:only-of-type {\n",
              "        vertical-align: middle;\n",
              "    }\n",
              "\n",
              "    .dataframe tbody tr th {\n",
              "        vertical-align: top;\n",
              "    }\n",
              "\n",
              "    .dataframe thead th {\n",
              "        text-align: right;\n",
              "    }\n",
              "</style>\n",
              "<table border=\"1\" class=\"dataframe\">\n",
              "  <thead>\n",
              "    <tr style=\"text-align: right;\">\n",
              "      <th></th>\n",
              "      <th>event_type</th>\n",
              "      <th>station_id</th>\n",
              "      <th>scheduled_date</th>\n",
              "      <th>estimated_date</th>\n",
              "      <th>actual_date</th>\n",
              "      <th>item_id</th>\n",
              "      <th>waggon_id</th>\n",
              "      <th>train_id</th>\n",
              "      <th>origin_location_id</th>\n",
              "      <th>destination_location_id</th>\n",
              "      <th>client_id</th>\n",
              "    </tr>\n",
              "  </thead>\n",
              "  <tbody>\n",
              "    <tr>\n",
              "      <th>1326876</th>\n",
              "      <td>EXPEDITION OF WAGONS</td>\n",
              "      <td>4</td>\n",
              "      <td>2018-08-02 12:00:00</td>\n",
              "      <td>2018-08-02 14:00:00</td>\n",
              "      <td>2018-08-02 14:00:00</td>\n",
              "      <td>1</td>\n",
              "      <td>1202617878</td>\n",
              "      <td>4</td>\n",
              "      <td>21</td>\n",
              "      <td>20</td>\n",
              "      <td>2</td>\n",
              "    </tr>\n",
              "    <tr>\n",
              "      <th>1326877</th>\n",
              "      <td>DEPARTURE OF WAGONS</td>\n",
              "      <td>4</td>\n",
              "      <td>2018-08-02 13:40:00</td>\n",
              "      <td>2018-08-02 15:07:00</td>\n",
              "      <td>2018-08-02 13:07:00</td>\n",
              "      <td>1</td>\n",
              "      <td>1202617878</td>\n",
              "      <td>4</td>\n",
              "      <td>21</td>\n",
              "      <td>20</td>\n",
              "      <td>2</td>\n",
              "    </tr>\n",
              "    <tr>\n",
              "      <th>1326878</th>\n",
              "      <td>ARRIVAL AT DESTINATION OF WAGONS</td>\n",
              "      <td>8</td>\n",
              "      <td>2018-08-03 07:00:00</td>\n",
              "      <td>2018-08-03 00:23:00</td>\n",
              "      <td>2018-08-02 22:56:00</td>\n",
              "      <td>1</td>\n",
              "      <td>1202617878</td>\n",
              "      <td>4</td>\n",
              "      <td>21</td>\n",
              "      <td>20</td>\n",
              "      <td>2</td>\n",
              "    </tr>\n",
              "    <tr>\n",
              "      <th>1326879</th>\n",
              "      <td>END OF WAGON UNLOADING</td>\n",
              "      <td>8</td>\n",
              "      <td>2018-08-03 13:00:00</td>\n",
              "      <td>2018-08-03 14:00:00</td>\n",
              "      <td>2018-08-03 20:37:00</td>\n",
              "      <td>1</td>\n",
              "      <td>1202617878</td>\n",
              "      <td>4</td>\n",
              "      <td>21</td>\n",
              "      <td>20</td>\n",
              "      <td>2</td>\n",
              "    </tr>\n",
              "    <tr>\n",
              "      <th>2106845</th>\n",
              "      <td>ARRIVAL OF ITEMS</td>\n",
              "      <td>4</td>\n",
              "      <td>2018-07-26 07:00:00</td>\n",
              "      <td>2018-07-26 06:59:00</td>\n",
              "      <td>2018-07-27 01:48:00</td>\n",
              "      <td>1</td>\n",
              "      <td>1202617878</td>\n",
              "      <td>4</td>\n",
              "      <td>21</td>\n",
              "      <td>20</td>\n",
              "      <td>2</td>\n",
              "    </tr>\n",
              "  </tbody>\n",
              "</table>\n",
              "</div>\n",
              "      <button class=\"colab-df-convert\" onclick=\"convertToInteractive('df-f1527272-49e4-4e79-be50-775d9bde2b59')\"\n",
              "              title=\"Convert this dataframe to an interactive table.\"\n",
              "              style=\"display:none;\">\n",
              "        \n",
              "  <svg xmlns=\"http://www.w3.org/2000/svg\" height=\"24px\"viewBox=\"0 0 24 24\"\n",
              "       width=\"24px\">\n",
              "    <path d=\"M0 0h24v24H0V0z\" fill=\"none\"/>\n",
              "    <path d=\"M18.56 5.44l.94 2.06.94-2.06 2.06-.94-2.06-.94-.94-2.06-.94 2.06-2.06.94zm-11 1L8.5 8.5l.94-2.06 2.06-.94-2.06-.94L8.5 2.5l-.94 2.06-2.06.94zm10 10l.94 2.06.94-2.06 2.06-.94-2.06-.94-.94-2.06-.94 2.06-2.06.94z\"/><path d=\"M17.41 7.96l-1.37-1.37c-.4-.4-.92-.59-1.43-.59-.52 0-1.04.2-1.43.59L10.3 9.45l-7.72 7.72c-.78.78-.78 2.05 0 2.83L4 21.41c.39.39.9.59 1.41.59.51 0 1.02-.2 1.41-.59l7.78-7.78 2.81-2.81c.8-.78.8-2.07 0-2.86zM5.41 20L4 18.59l7.72-7.72 1.47 1.35L5.41 20z\"/>\n",
              "  </svg>\n",
              "      </button>\n",
              "      \n",
              "  <style>\n",
              "    .colab-df-container {\n",
              "      display:flex;\n",
              "      flex-wrap:wrap;\n",
              "      gap: 12px;\n",
              "    }\n",
              "\n",
              "    .colab-df-convert {\n",
              "      background-color: #E8F0FE;\n",
              "      border: none;\n",
              "      border-radius: 50%;\n",
              "      cursor: pointer;\n",
              "      display: none;\n",
              "      fill: #1967D2;\n",
              "      height: 32px;\n",
              "      padding: 0 0 0 0;\n",
              "      width: 32px;\n",
              "    }\n",
              "\n",
              "    .colab-df-convert:hover {\n",
              "      background-color: #E2EBFA;\n",
              "      box-shadow: 0px 1px 2px rgba(60, 64, 67, 0.3), 0px 1px 3px 1px rgba(60, 64, 67, 0.15);\n",
              "      fill: #174EA6;\n",
              "    }\n",
              "\n",
              "    [theme=dark] .colab-df-convert {\n",
              "      background-color: #3B4455;\n",
              "      fill: #D2E3FC;\n",
              "    }\n",
              "\n",
              "    [theme=dark] .colab-df-convert:hover {\n",
              "      background-color: #434B5C;\n",
              "      box-shadow: 0px 1px 3px 1px rgba(0, 0, 0, 0.15);\n",
              "      filter: drop-shadow(0px 1px 2px rgba(0, 0, 0, 0.3));\n",
              "      fill: #FFFFFF;\n",
              "    }\n",
              "  </style>\n",
              "\n",
              "      <script>\n",
              "        const buttonEl =\n",
              "          document.querySelector('#df-f1527272-49e4-4e79-be50-775d9bde2b59 button.colab-df-convert');\n",
              "        buttonEl.style.display =\n",
              "          google.colab.kernel.accessAllowed ? 'block' : 'none';\n",
              "\n",
              "        async function convertToInteractive(key) {\n",
              "          const element = document.querySelector('#df-f1527272-49e4-4e79-be50-775d9bde2b59');\n",
              "          const dataTable =\n",
              "            await google.colab.kernel.invokeFunction('convertToInteractive',\n",
              "                                                     [key], {});\n",
              "          if (!dataTable) return;\n",
              "\n",
              "          const docLinkHtml = 'Like what you see? Visit the ' +\n",
              "            '<a target=\"_blank\" href=https://colab.research.google.com/notebooks/data_table.ipynb>data table notebook</a>'\n",
              "            + ' to learn more about interactive tables.';\n",
              "          element.innerHTML = '';\n",
              "          dataTable['output_type'] = 'display_data';\n",
              "          await google.colab.output.renderOutput(dataTable, element);\n",
              "          const docLink = document.createElement('div');\n",
              "          docLink.innerHTML = docLinkHtml;\n",
              "          element.appendChild(docLink);\n",
              "        }\n",
              "      </script>\n",
              "    </div>\n",
              "  </div>\n",
              "  "
            ]
          },
          "metadata": {},
          "execution_count": 14
        }
      ]
    },
    {
      "cell_type": "markdown",
      "metadata": {
        "id": "lwT5f3gI9pKc"
      },
      "source": [
        "# Data Analytics\n",
        "\n",
        "Once we know about the data that we are using and have cleaned it, we need to ask what kind of useful information we can extract from those data. It is a good idea to make a kind of brainstorming of possible questions, then take the list of resulting questions and sort them by their difficulty, and finally begin to answer them starting by the easiest ones."
      ]
    },
    {
      "cell_type": "markdown",
      "metadata": {
        "id": "pHCYhgV19pKc"
      },
      "source": [
        "## Basic results\n",
        "\n",
        "Some of the easiest questions or more basic results we can obtain are the following:\n",
        "* Numeric results\n",
        "    * How many packages are there?\n",
        "    * How many trains are there?\n",
        "    * How many wagons are there?\n",
        "    * How many stations are there?\n",
        "    * How many routes are there? (combination of origin and destination)\n",
        "    * Which is the most used train?\n",
        "    * How many types of events are there?\n",
        "    * What is the average delay of each type of event?\n",
        "    * How many packages are processed at each of the stations?\n",
        "\n",
        "* Graphic results\n",
        "    * Bar chart of the number of packages processed at each station\n",
        "    * Histogram of the delay in minutes\n",
        "    * Distributions of the number of packages handled according to dates (all three), i.e. the number of unique item_id per day.\n",
        "\n",
        "By answering these questions, you may discover some inconsistencies or errors in the data that you did not detect in the cleaning phase. This is usual in this type of task; you can return to the preprocessing phase with this new knowledge and refine the cleaning of the data.\n",
        "\n",
        "Some of those questions are just countings, summations, or rankings, but others need data aggregations with groupby.\n",
        "\n",
        "**Answer each question in a different cell of this notebook (remember that you can insert a new cell from the Insert menu).**\n"
      ]
    },
    {
      "cell_type": "markdown",
      "source": [
        "### Coursework (Sergio Olivares)"
      ],
      "metadata": {
        "id": "0XSY28kDbreQ"
      }
    },
    {
      "cell_type": "code",
      "execution_count": 115,
      "metadata": {
        "id": "pbhvBEAJ9pKd",
        "colab": {
          "base_uri": "https://localhost:8080/"
        },
        "outputId": "da716df6-58e5-4fd4-82f2-e93be7981ee4"
      },
      "outputs": [
        {
          "output_type": "stream",
          "name": "stdout",
          "text": [
            "1. How many packages are there?\n"
          ]
        },
        {
          "output_type": "execute_result",
          "data": {
            "text/plain": [
              "394194"
            ]
          },
          "metadata": {},
          "execution_count": 115
        }
      ],
      "source": [
        "print(\"1. How many packages are there?\")\n",
        "clean_data.item_id.nunique()"
      ]
    },
    {
      "cell_type": "code",
      "execution_count": 91,
      "metadata": {
        "colab": {
          "base_uri": "https://localhost:8080/"
        },
        "outputId": "3779abe6-3b78-4218-e847-2ed55128d451",
        "id": "CHKmgbIpVbmQ"
      },
      "outputs": [
        {
          "output_type": "stream",
          "name": "stdout",
          "text": [
            "2. How many trains are there?\n"
          ]
        },
        {
          "output_type": "execute_result",
          "data": {
            "text/plain": [
              "10"
            ]
          },
          "metadata": {},
          "execution_count": 91
        }
      ],
      "source": [
        "print(\"2. How many trains are there?\")\n",
        "clean_data.train_id.nunique()"
      ]
    },
    {
      "cell_type": "code",
      "execution_count": 92,
      "metadata": {
        "colab": {
          "base_uri": "https://localhost:8080/"
        },
        "outputId": "d536184f-48ff-44c2-99eb-11847c5ccaac",
        "id": "UGWeo6ByVhOj"
      },
      "outputs": [
        {
          "output_type": "stream",
          "name": "stdout",
          "text": [
            "3. How many wagons are there?\n"
          ]
        },
        {
          "output_type": "execute_result",
          "data": {
            "text/plain": [
              "806"
            ]
          },
          "metadata": {},
          "execution_count": 92
        }
      ],
      "source": [
        "print(\"3. How many wagons are there?\")\n",
        "clean_data.waggon_id.nunique()"
      ]
    },
    {
      "cell_type": "code",
      "execution_count": 93,
      "metadata": {
        "colab": {
          "base_uri": "https://localhost:8080/"
        },
        "outputId": "6a952de3-4953-4605-fa6a-e1d24d617a76",
        "id": "8oFbCDp5VrSw"
      },
      "outputs": [
        {
          "output_type": "stream",
          "name": "stdout",
          "text": [
            "4. How many stations are there?\n"
          ]
        },
        {
          "output_type": "execute_result",
          "data": {
            "text/plain": [
              "9"
            ]
          },
          "metadata": {},
          "execution_count": 93
        }
      ],
      "source": [
        "print(\"4. How many stations are there?\")\n",
        "clean_data.station_id.nunique()"
      ]
    },
    {
      "cell_type": "code",
      "execution_count": 108,
      "metadata": {
        "colab": {
          "base_uri": "https://localhost:8080/"
        },
        "outputId": "6775a3cc-3ed5-4d6d-ed0d-d5e676941a58",
        "id": "HdHphjyAVw0A"
      },
      "outputs": [
        {
          "output_type": "stream",
          "name": "stdout",
          "text": [
            "5. How many routes are there? (combination of origin and destination)\n"
          ]
        },
        {
          "output_type": "execute_result",
          "data": {
            "text/plain": [
              "19"
            ]
          },
          "metadata": {},
          "execution_count": 108
        }
      ],
      "source": [
        "print(\"5. How many routes are there? (combination of origin and destination)\")\n",
        "clean_data.groupby(['origin_location_id','destination_location_id']).size().count()"
      ]
    },
    {
      "cell_type": "code",
      "execution_count": 114,
      "metadata": {
        "colab": {
          "base_uri": "https://localhost:8080/"
        },
        "outputId": "989209e9-0e75-43fc-8b02-3941886897ec",
        "id": "0LxTVEytX4_Q"
      },
      "outputs": [
        {
          "output_type": "stream",
          "name": "stdout",
          "text": [
            "6. Which is the most used train?\n"
          ]
        },
        {
          "output_type": "execute_result",
          "data": {
            "text/plain": [
              "2"
            ]
          },
          "metadata": {},
          "execution_count": 114
        }
      ],
      "source": [
        "print(\"6. Which is the most used train?\")\n",
        "clean_data.train_id.value_counts().idxmax()"
      ]
    },
    {
      "cell_type": "code",
      "execution_count": 119,
      "metadata": {
        "colab": {
          "base_uri": "https://localhost:8080/"
        },
        "outputId": "77d9ccfa-4c53-428d-b1f0-1900a8ab8323",
        "id": "U4Dj28o5ZK29"
      },
      "outputs": [
        {
          "output_type": "stream",
          "name": "stdout",
          "text": [
            "7. How many types of events are there?\n",
            "7\n"
          ]
        },
        {
          "output_type": "execute_result",
          "data": {
            "text/plain": [
              "['EXPEDITION OF WAGONS',\n",
              " 'END OF WAGON LOADING',\n",
              " 'END OF WAGON UNLOADING',\n",
              " 'ARRIVAL AT DESTINATION OF WAGONS',\n",
              " 'ARRIVAL OF ITEMS',\n",
              " 'ARRIVAL OF WAGONS',\n",
              " 'DEPARTURE OF WAGONS']"
            ]
          },
          "metadata": {},
          "execution_count": 119
        }
      ],
      "source": [
        "print(\"7. How many types of events are there?\")\n",
        "print(clean_data.event_type.nunique())\n",
        "clean_data.event_type.cat.categories.tolist()"
      ]
    },
    {
      "cell_type": "code",
      "source": [
        "print(\"8. What is the average delay of each type of event?\")\n",
        "\n",
        "group = clean_data.groupby('event_type')\n",
        "\n",
        "def calculate_delay(row):\n",
        "  return row['actual_date'] - row['scheduled_date']\n",
        "\n",
        "group.apply(calculate_delay).mean()"
      ],
      "metadata": {
        "colab": {
          "base_uri": "https://localhost:8080/"
        },
        "id": "Qstnnd7K8OaR",
        "outputId": "a62c886b-88ed-4942-ffa1-504e89d77c62"
      },
      "execution_count": 155,
      "outputs": [
        {
          "output_type": "stream",
          "name": "stdout",
          "text": [
            "8. What is the average delay of each type of event?\n"
          ]
        },
        {
          "output_type": "execute_result",
          "data": {
            "text/plain": [
              "Timedelta('0 days 21:25:05.916823633')"
            ]
          },
          "metadata": {},
          "execution_count": 155
        }
      ]
    },
    {
      "cell_type": "code",
      "source": [
        "print(\"9. How many packages are processed at each of the stations?\")\n",
        "\n",
        "packages_by_station = clean_data.groupby('station_id').item_id.nunique()\n",
        "\n",
        "print(packages_by_station)"
      ],
      "metadata": {
        "colab": {
          "base_uri": "https://localhost:8080/"
        },
        "id": "9UWIdNqd-J3_",
        "outputId": "e2191c37-b15f-488b-bbd4-4de6cacf8ff4"
      },
      "execution_count": 135,
      "outputs": [
        {
          "output_type": "stream",
          "name": "stdout",
          "text": [
            "9. How many packages are processed at each of the stations?\n",
            "station_id\n",
            "1     74312\n",
            "2       200\n",
            "3    241651\n",
            "4    152341\n",
            "5    161075\n",
            "6       200\n",
            "7       200\n",
            "8     78027\n",
            "9     80570\n",
            "Name: item_id, dtype: int64\n"
          ]
        }
      ]
    },
    {
      "cell_type": "code",
      "source": [
        "print(\"10. Bar chart of the number of packages processed at each station\")\n",
        "\n",
        "packages_by_station.plot(kind='bar')"
      ],
      "metadata": {
        "colab": {
          "base_uri": "https://localhost:8080/",
          "height": 312
        },
        "id": "hPR9_GaOBEIN",
        "outputId": "fa55f5fb-f443-4b7f-b3f5-8f3c4d357705"
      },
      "execution_count": 141,
      "outputs": [
        {
          "output_type": "stream",
          "name": "stdout",
          "text": [
            "10. Bar chart of the number of packages processed at each station\n"
          ]
        },
        {
          "output_type": "execute_result",
          "data": {
            "text/plain": [
              "<matplotlib.axes._subplots.AxesSubplot at 0x7fb6f0e99dc0>"
            ]
          },
          "metadata": {},
          "execution_count": 141
        },
        {
          "output_type": "display_data",
          "data": {
            "text/plain": [
              "<Figure size 432x288 with 1 Axes>"
            ],
            "image/png": "[encoded data removed]"
          },
          "metadata": {
            "needs_background": "light"
          }
        }
      ]
    },
    {
      "cell_type": "code",
      "source": [
        "print(\"11. Histogram of the delay in minutes\")\n",
        "\n",
        "def calculate_delay_in_minutes(row):\n",
        "  return (row['actual_date'] - row['scheduled_date']).total_seconds() / 60\n",
        "\n",
        "histogram_data = clean_data.apply(calculate_delay_in_minutes, axis=1)\n",
        "\n",
        "histogram_data.hist(bins=10, range=[-2000, 7000])"
      ],
      "metadata": {
        "colab": {
          "base_uri": "https://localhost:8080/",
          "height": 300
        },
        "id": "CFSvWoCUDBCO",
        "outputId": "e8815e6d-d2b9-4686-925d-378c1cdcf566"
      },
      "execution_count": 183,
      "outputs": [
        {
          "output_type": "stream",
          "name": "stdout",
          "text": [
            "11. Histogram of the delay in minutes\n"
          ]
        },
        {
          "output_type": "execute_result",
          "data": {
            "text/plain": [
              "<matplotlib.axes._subplots.AxesSubplot at 0x7fb67c58af70>"
            ]
          },
          "metadata": {},
          "execution_count": 183
        },
        {
          "output_type": "display_data",
          "data": {
            "text/plain": [
              "<Figure size 432x288 with 1 Axes>"
            ],
            "image/png": "[encoded data removed]"
          },
          "metadata": {
            "needs_background": "light"
          }
        }
      ]
    },
    {
      "cell_type": "code",
      "source": [
        "print(\"12. Distributions of the number of packages handled according to dates (all three), i.e. the number of unique item_id per day.\")\n",
        "\n",
        "scheduled_date_items = clean_data.groupby('scheduled_date').item_id.nunique()\n",
        "estimated_date_items = clean_data.groupby('estimated_date').item_id.nunique()\n",
        "actual_date_items = clean_data.groupby('actual_date').item_id.nunique()\n",
        "\n",
        "ax = scheduled_date_items.plot(label='scheduled')\n",
        "ax = estimated_date_items.plot(ax=ax, label='estimated')\n",
        "ax = actual_date_items.plot(ax=ax, label='actual')\n",
        "\n",
        "ax.legend()\n",
        "\n",
        "plt.show()\n"
      ],
      "metadata": {
        "colab": {
          "base_uri": "https://localhost:8080/",
          "height": 295
        },
        "id": "BHdPH5Q3NmHr",
        "outputId": "2c1544be-22c6-4bf3-8ec7-a4fd3319522a"
      },
      "execution_count": 187,
      "outputs": [
        {
          "output_type": "stream",
          "name": "stdout",
          "text": [
            "12. Distributions of the number of packages handled according to dates (all three), i.e. the number of unique item_id per day.\n"
          ]
        },
        {
          "output_type": "display_data",
          "data": {
            "text/plain": [
              "<Figure size 432x288 with 1 Axes>"
            ],
            "image/png": "[encoded data removed]"
          },
          "metadata": {
            "needs_background": "light"
          }
        }
      ]
    },
    {
      "cell_type": "markdown",
      "metadata": {
        "id": "xTlZbJGw9pKe"
      },
      "source": [
        "# Intermediate results\n",
        "\n",
        "* Numeric results\n",
        "    * How many different routes do each of the trains do? \n",
        "    * What are the average, max, and min durations of the complete process of a package? (difference between the first and last date registered for an item)\n",
        "    * What is the day of the week on which more shipments are made?\n",
        "    * In which months each train is active?, and on what days of the week?\n",
        "    * How long does it take on average to load a wagon?\n",
        "    * How many packages does each train carry on each journey? And how many wagons?\n",
        "    * On which stations does each client operate?\n",
        "\n",
        "* Graphic results.\n",
        "    * Distribution of the delay in minutes of the event x by train\n",
        "    * Number of packages (cumulative) that each station has processed over time\n",
        "    * Distribution of delays according to the type of event\n",
        "\n",
        "**Answer at least 5 of these questions**"
      ]
    },
    {
      "cell_type": "markdown",
      "source": [
        "### Coursework (Sergio Olivares)"
      ],
      "metadata": {
        "id": "cUgze7SCbus2"
      }
    },
    {
      "cell_type": "code",
      "execution_count": 15,
      "metadata": {
        "id": "k8MLNI4U9pKe",
        "colab": {
          "base_uri": "https://localhost:8080/"
        },
        "outputId": "38da1d13-c60d-4d92-ea38-90f0aa399e8d"
      },
      "outputs": [
        {
          "output_type": "stream",
          "name": "stdout",
          "text": [
            "1 What is the day of the week on which more shipments are made\n"
          ]
        },
        {
          "output_type": "execute_result",
          "data": {
            "text/plain": [
              "scheduled_date    Wednesday\n",
              "item_id              394189\n",
              "dtype: object"
            ]
          },
          "metadata": {},
          "execution_count": 15
        }
      ],
      "source": [
        "print(\"1 What is the day of the week on which more shipments are made\")\n",
        "\n",
        "clean_data.groupby(clean_data.scheduled_date.dt.day_name()).item_id.nunique().reset_index().max()"
      ]
    },
    {
      "cell_type": "code",
      "source": [
        "print(\"2. In which months each train is active?, and on what days of the week?\")\n",
        "\n",
        "import calendar\n",
        "\n",
        "print(clean_data.groupby('train_id')['scheduled_date'].apply(lambda x: [calendar.month_name[month] for month in x.dt.month.unique().tolist()]))\n",
        "\n",
        "print(clean_data.groupby('train_id')['scheduled_date'].apply(lambda x: [calendar.day_name[day] for day in x.dt.dayofweek.unique().tolist()]))"
      ],
      "metadata": {
        "colab": {
          "base_uri": "https://localhost:8080/"
        },
        "id": "7u9sRR-fd00O",
        "outputId": "e912a3a2-1a69-4e28-fa4f-f9eae3e4ae80"
      },
      "execution_count": 16,
      "outputs": [
        {
          "output_type": "stream",
          "name": "stdout",
          "text": [
            "2. In which months each train is active?, and on what days of the week?\n",
            "train_id\n",
            "0                                         [May, April]\n",
            "1                                              [March]\n",
            "2    [April, June, July, August, September, Februar...\n",
            "3    [March, January, February, April, May, June, J...\n",
            "4    [August, July, January, March, February, April...\n",
            "5    [February, January, March, April, May, June, J...\n",
            "6                                [June, May, February]\n",
            "7    [March, April, August, July, June, May, Septem...\n",
            "8                                       [July, August]\n",
            "9                                           [December]\n",
            "Name: scheduled_date, dtype: object\n",
            "train_id\n",
            "0                           [Monday, Friday, Thursday]\n",
            "1                       [Thursday, Wednesday, Tuesday]\n",
            "2    [Saturday, Tuesday, Thursday, Monday, Wednesda...\n",
            "3    [Monday, Thursday, Tuesday, Wednesday, Friday,...\n",
            "4    [Thursday, Friday, Monday, Saturday, Tuesday, ...\n",
            "5    [Friday, Thursday, Saturday, Monday, Tuesday, ...\n",
            "6               [Thursday, Wednesday, Tuesday, Monday]\n",
            "7    [Monday, Friday, Thursday, Wednesday, Tuesday,...\n",
            "8               [Wednesday, Thursday, Tuesday, Monday]\n",
            "9                        [Thursday, Wednesday, Monday]\n",
            "Name: scheduled_date, dtype: object\n"
          ]
        }
      ]
    },
    {
      "cell_type": "code",
      "source": [
        "print(\"3. How many packages does each train carry on each journey? And how many wagons?\")\n",
        "\n",
        "grouped = clean_data.groupby(['train_id', 'origin_location_id', 'destination_location_id'])\n",
        "\n",
        "with_waggons = grouped.waggon_id.nunique().reset_index(name=\"n. of waggons\")\n",
        "\n",
        "with_packages = grouped.size().reset_index(name=\"n. of packages\")\n",
        "\n",
        "pd.merge(with_waggons, with_packages, how=\"inner\")"
      ],
      "metadata": {
        "colab": {
          "base_uri": "https://localhost:8080/",
          "height": 1000
        },
        "id": "TeCqm4RhLk-e",
        "outputId": "07c11119-82d8-42bd-bbf7-7a0ddf0dd366"
      },
      "execution_count": 30,
      "outputs": [
        {
          "output_type": "stream",
          "name": "stdout",
          "text": [
            "3. How many packages does each train carry on each journey? And how many wagons?\n"
          ]
        },
        {
          "output_type": "execute_result",
          "data": {
            "text/plain": [
              "    train_id  origin_location_id  destination_location_id  n. of waggons  \\\n",
              "0          0                   1                       12             20   \n",
              "1          1                  14                       24             50   \n",
              "2          2                  13                       16            372   \n",
              "3          2                  13                       17            101   \n",
              "4          2                  13                       18            135   \n",
              "5          3                  15                       22             93   \n",
              "6          3                  25                        2            393   \n",
              "7          3                  25                        3            303   \n",
              "8          3                  25                        4             10   \n",
              "9          3                  25                        5             91   \n",
              "10         3                  25                        6             14   \n",
              "11         3                  25                        7             25   \n",
              "12         3                  25                       10            409   \n",
              "13         3                  25                       11            332   \n",
              "14         3                  26                        8             29   \n",
              "15         3                  26                        9            109   \n",
              "16         4                  21                       19            297   \n",
              "17         4                  21                       20            441   \n",
              "18         5                  14                       23            269   \n",
              "19         5                  14                       24            316   \n",
              "20         6                  13                       16            114   \n",
              "21         6                  13                       17              2   \n",
              "22         6                  13                       18             10   \n",
              "23         7                  13                       16            349   \n",
              "24         7                  13                       17             92   \n",
              "25         7                  13                       18            126   \n",
              "26         8                  13                       16             63   \n",
              "27         8                  13                       18             36   \n",
              "28         9                  13                       16             21   \n",
              "29         9                  13                       17              1   \n",
              "30         9                  13                       18             14   \n",
              "\n",
              "    n. of packages  \n",
              "0             1000  \n",
              "1             1250  \n",
              "2           462491  \n",
              "3             3890  \n",
              "4            68938  \n",
              "5              996  \n",
              "6           134248  \n",
              "7            37166  \n",
              "8              310  \n",
              "9            24873  \n",
              "10             300  \n",
              "11             440  \n",
              "12          108777  \n",
              "13           58132  \n",
              "14            1121  \n",
              "15            4793  \n",
              "16           31461  \n",
              "17          359282  \n",
              "18           80136  \n",
              "19          402242  \n",
              "20            5539  \n",
              "21              24  \n",
              "22             373  \n",
              "23          369004  \n",
              "24            2600  \n",
              "25           49882  \n",
              "26            1940  \n",
              "27            1520  \n",
              "28             396  \n",
              "29              54  \n",
              "30             672  "
            ],
            "text/html": [
              "\n",
              "  <div id=\"df-bd4b0283-c16f-497d-88e7-2f95b3f7e139\">\n",
              "    <div class=\"colab-df-container\">\n",
              "      <div>\n",
              "<style scoped>\n",
              "    .dataframe tbody tr th:only-of-type {\n",
              "        vertical-align: middle;\n",
              "    }\n",
              "\n",
              "    .dataframe tbody tr th {\n",
              "        vertical-align: top;\n",
              "    }\n",
              "\n",
              "    .dataframe thead th {\n",
              "        text-align: right;\n",
              "    }\n",
              "</style>\n",
              "<table border=\"1\" class=\"dataframe\">\n",
              "  <thead>\n",
              "    <tr style=\"text-align: right;\">\n",
              "      <th></th>\n",
              "      <th>train_id</th>\n",
              "      <th>origin_location_id</th>\n",
              "      <th>destination_location_id</th>\n",
              "      <th>n. of waggons</th>\n",
              "      <th>n. of packages</th>\n",
              "    </tr>\n",
              "  </thead>\n",
              "  <tbody>\n",
              "    <tr>\n",
              "      <th>0</th>\n",
              "      <td>0</td>\n",
              "      <td>1</td>\n",
              "      <td>12</td>\n",
              "      <td>20</td>\n",
              "      <td>1000</td>\n",
              "    </tr>\n",
              "    <tr>\n",
              "      <th>1</th>\n",
              "      <td>1</td>\n",
              "      <td>14</td>\n",
              "      <td>24</td>\n",
              "      <td>50</td>\n",
              "      <td>1250</td>\n",
              "    </tr>\n",
              "    <tr>\n",
              "      <th>2</th>\n",
              "      <td>2</td>\n",
              "      <td>13</td>\n",
              "      <td>16</td>\n",
              "      <td>372</td>\n",
              "      <td>462491</td>\n",
              "    </tr>\n",
              "    <tr>\n",
              "      <th>3</th>\n",
              "      <td>2</td>\n",
              "      <td>13</td>\n",
              "      <td>17</td>\n",
              "      <td>101</td>\n",
              "      <td>3890</td>\n",
              "    </tr>\n",
              "    <tr>\n",
              "      <th>4</th>\n",
              "      <td>2</td>\n",
              "      <td>13</td>\n",
              "      <td>18</td>\n",
              "      <td>135</td>\n",
              "      <td>68938</td>\n",
              "    </tr>\n",
              "    <tr>\n",
              "      <th>5</th>\n",
              "      <td>3</td>\n",
              "      <td>15</td>\n",
              "      <td>22</td>\n",
              "      <td>93</td>\n",
              "      <td>996</td>\n",
              "    </tr>\n",
              "    <tr>\n",
              "      <th>6</th>\n",
              "      <td>3</td>\n",
              "      <td>25</td>\n",
              "      <td>2</td>\n",
              "      <td>393</td>\n",
              "      <td>134248</td>\n",
              "    </tr>\n",
              "    <tr>\n",
              "      <th>7</th>\n",
              "      <td>3</td>\n",
              "      <td>25</td>\n",
              "      <td>3</td>\n",
              "      <td>303</td>\n",
              "      <td>37166</td>\n",
              "    </tr>\n",
              "    <tr>\n",
              "      <th>8</th>\n",
              "      <td>3</td>\n",
              "      <td>25</td>\n",
              "      <td>4</td>\n",
              "      <td>10</td>\n",
              "      <td>310</td>\n",
              "    </tr>\n",
              "    <tr>\n",
              "      <th>9</th>\n",
              "      <td>3</td>\n",
              "      <td>25</td>\n",
              "      <td>5</td>\n",
              "      <td>91</td>\n",
              "      <td>24873</td>\n",
              "    </tr>\n",
              "    <tr>\n",
              "      <th>10</th>\n",
              "      <td>3</td>\n",
              "      <td>25</td>\n",
              "      <td>6</td>\n",
              "      <td>14</td>\n",
              "      <td>300</td>\n",
              "    </tr>\n",
              "    <tr>\n",
              "      <th>11</th>\n",
              "      <td>3</td>\n",
              "      <td>25</td>\n",
              "      <td>7</td>\n",
              "      <td>25</td>\n",
              "      <td>440</td>\n",
              "    </tr>\n",
              "    <tr>\n",
              "      <th>12</th>\n",
              "      <td>3</td>\n",
              "      <td>25</td>\n",
              "      <td>10</td>\n",
              "      <td>409</td>\n",
              "      <td>108777</td>\n",
              "    </tr>\n",
              "    <tr>\n",
              "      <th>13</th>\n",
              "      <td>3</td>\n",
              "      <td>25</td>\n",
              "      <td>11</td>\n",
              "      <td>332</td>\n",
              "      <td>58132</td>\n",
              "    </tr>\n",
              "    <tr>\n",
              "      <th>14</th>\n",
              "      <td>3</td>\n",
              "      <td>26</td>\n",
              "      <td>8</td>\n",
              "      <td>29</td>\n",
              "      <td>1121</td>\n",
              "    </tr>\n",
              "    <tr>\n",
              "      <th>15</th>\n",
              "      <td>3</td>\n",
              "      <td>26</td>\n",
              "      <td>9</td>\n",
              "      <td>109</td>\n",
              "      <td>4793</td>\n",
              "    </tr>\n",
              "    <tr>\n",
              "      <th>16</th>\n",
              "      <td>4</td>\n",
              "      <td>21</td>\n",
              "      <td>19</td>\n",
              "      <td>297</td>\n",
              "      <td>31461</td>\n",
              "    </tr>\n",
              "    <tr>\n",
              "      <th>17</th>\n",
              "      <td>4</td>\n",
              "      <td>21</td>\n",
              "      <td>20</td>\n",
              "      <td>441</td>\n",
              "      <td>359282</td>\n",
              "    </tr>\n",
              "    <tr>\n",
              "      <th>18</th>\n",
              "      <td>5</td>\n",
              "      <td>14</td>\n",
              "      <td>23</td>\n",
              "      <td>269</td>\n",
              "      <td>80136</td>\n",
              "    </tr>\n",
              "    <tr>\n",
              "      <th>19</th>\n",
              "      <td>5</td>\n",
              "      <td>14</td>\n",
              "      <td>24</td>\n",
              "      <td>316</td>\n",
              "      <td>402242</td>\n",
              "    </tr>\n",
              "    <tr>\n",
              "      <th>20</th>\n",
              "      <td>6</td>\n",
              "      <td>13</td>\n",
              "      <td>16</td>\n",
              "      <td>114</td>\n",
              "      <td>5539</td>\n",
              "    </tr>\n",
              "    <tr>\n",
              "      <th>21</th>\n",
              "      <td>6</td>\n",
              "      <td>13</td>\n",
              "      <td>17</td>\n",
              "      <td>2</td>\n",
              "      <td>24</td>\n",
              "    </tr>\n",
              "    <tr>\n",
              "      <th>22</th>\n",
              "      <td>6</td>\n",
              "      <td>13</td>\n",
              "      <td>18</td>\n",
              "      <td>10</td>\n",
              "      <td>373</td>\n",
              "    </tr>\n",
              "    <tr>\n",
              "      <th>23</th>\n",
              "      <td>7</td>\n",
              "      <td>13</td>\n",
              "      <td>16</td>\n",
              "      <td>349</td>\n",
              "      <td>369004</td>\n",
              "    </tr>\n",
              "    <tr>\n",
              "      <th>24</th>\n",
              "      <td>7</td>\n",
              "      <td>13</td>\n",
              "      <td>17</td>\n",
              "      <td>92</td>\n",
              "      <td>2600</td>\n",
              "    </tr>\n",
              "    <tr>\n",
              "      <th>25</th>\n",
              "      <td>7</td>\n",
              "      <td>13</td>\n",
              "      <td>18</td>\n",
              "      <td>126</td>\n",
              "      <td>49882</td>\n",
              "    </tr>\n",
              "    <tr>\n",
              "      <th>26</th>\n",
              "      <td>8</td>\n",
              "      <td>13</td>\n",
              "      <td>16</td>\n",
              "      <td>63</td>\n",
              "      <td>1940</td>\n",
              "    </tr>\n",
              "    <tr>\n",
              "      <th>27</th>\n",
              "      <td>8</td>\n",
              "      <td>13</td>\n",
              "      <td>18</td>\n",
              "      <td>36</td>\n",
              "      <td>1520</td>\n",
              "    </tr>\n",
              "    <tr>\n",
              "      <th>28</th>\n",
              "      <td>9</td>\n",
              "      <td>13</td>\n",
              "      <td>16</td>\n",
              "      <td>21</td>\n",
              "      <td>396</td>\n",
              "    </tr>\n",
              "    <tr>\n",
              "      <th>29</th>\n",
              "      <td>9</td>\n",
              "      <td>13</td>\n",
              "      <td>17</td>\n",
              "      <td>1</td>\n",
              "      <td>54</td>\n",
              "    </tr>\n",
              "    <tr>\n",
              "      <th>30</th>\n",
              "      <td>9</td>\n",
              "      <td>13</td>\n",
              "      <td>18</td>\n",
              "      <td>14</td>\n",
              "      <td>672</td>\n",
              "    </tr>\n",
              "  </tbody>\n",
              "</table>\n",
              "</div>\n",
              "      <button class=\"colab-df-convert\" onclick=\"convertToInteractive('df-bd4b0283-c16f-497d-88e7-2f95b3f7e139')\"\n",
              "              title=\"Convert this dataframe to an interactive table.\"\n",
              "              style=\"display:none;\">\n",
              "        \n",
              "  <svg xmlns=\"http://www.w3.org/2000/svg\" height=\"24px\"viewBox=\"0 0 24 24\"\n",
              "       width=\"24px\">\n",
              "    <path d=\"M0 0h24v24H0V0z\" fill=\"none\"/>\n",
              "    <path d=\"M18.56 5.44l.94 2.06.94-2.06 2.06-.94-2.06-.94-.94-2.06-.94 2.06-2.06.94zm-11 1L8.5 8.5l.94-2.06 2.06-.94-2.06-.94L8.5 2.5l-.94 2.06-2.06.94zm10 10l.94 2.06.94-2.06 2.06-.94-2.06-.94-.94-2.06-.94 2.06-2.06.94z\"/><path d=\"M17.41 7.96l-1.37-1.37c-.4-.4-.92-.59-1.43-.59-.52 0-1.04.2-1.43.59L10.3 9.45l-7.72 7.72c-.78.78-.78 2.05 0 2.83L4 21.41c.39.39.9.59 1.41.59.51 0 1.02-.2 1.41-.59l7.78-7.78 2.81-2.81c.8-.78.8-2.07 0-2.86zM5.41 20L4 18.59l7.72-7.72 1.47 1.35L5.41 20z\"/>\n",
              "  </svg>\n",
              "      </button>\n",
              "      \n",
              "  <style>\n",
              "    .colab-df-container {\n",
              "      display:flex;\n",
              "      flex-wrap:wrap;\n",
              "      gap: 12px;\n",
              "    }\n",
              "\n",
              "    .colab-df-convert {\n",
              "      background-color: #E8F0FE;\n",
              "      border: none;\n",
              "      border-radius: 50%;\n",
              "      cursor: pointer;\n",
              "      display: none;\n",
              "      fill: #1967D2;\n",
              "      height: 32px;\n",
              "      padding: 0 0 0 0;\n",
              "      width: 32px;\n",
              "    }\n",
              "\n",
              "    .colab-df-convert:hover {\n",
              "      background-color: #E2EBFA;\n",
              "      box-shadow: 0px 1px 2px rgba(60, 64, 67, 0.3), 0px 1px 3px 1px rgba(60, 64, 67, 0.15);\n",
              "      fill: #174EA6;\n",
              "    }\n",
              "\n",
              "    [theme=dark] .colab-df-convert {\n",
              "      background-color: #3B4455;\n",
              "      fill: #D2E3FC;\n",
              "    }\n",
              "\n",
              "    [theme=dark] .colab-df-convert:hover {\n",
              "      background-color: #434B5C;\n",
              "      box-shadow: 0px 1px 3px 1px rgba(0, 0, 0, 0.15);\n",
              "      filter: drop-shadow(0px 1px 2px rgba(0, 0, 0, 0.3));\n",
              "      fill: #FFFFFF;\n",
              "    }\n",
              "  </style>\n",
              "\n",
              "      <script>\n",
              "        const buttonEl =\n",
              "          document.querySelector('#df-bd4b0283-c16f-497d-88e7-2f95b3f7e139 button.colab-df-convert');\n",
              "        buttonEl.style.display =\n",
              "          google.colab.kernel.accessAllowed ? 'block' : 'none';\n",
              "\n",
              "        async function convertToInteractive(key) {\n",
              "          const element = document.querySelector('#df-bd4b0283-c16f-497d-88e7-2f95b3f7e139');\n",
              "          const dataTable =\n",
              "            await google.colab.kernel.invokeFunction('convertToInteractive',\n",
              "                                                     [key], {});\n",
              "          if (!dataTable) return;\n",
              "\n",
              "          const docLinkHtml = 'Like what you see? Visit the ' +\n",
              "            '<a target=\"_blank\" href=https://colab.research.google.com/notebooks/data_table.ipynb>data table notebook</a>'\n",
              "            + ' to learn more about interactive tables.';\n",
              "          element.innerHTML = '';\n",
              "          dataTable['output_type'] = 'display_data';\n",
              "          await google.colab.output.renderOutput(dataTable, element);\n",
              "          const docLink = document.createElement('div');\n",
              "          docLink.innerHTML = docLinkHtml;\n",
              "          element.appendChild(docLink);\n",
              "        }\n",
              "      </script>\n",
              "    </div>\n",
              "  </div>\n",
              "  "
            ]
          },
          "metadata": {},
          "execution_count": 30
        }
      ]
    },
    {
      "cell_type": "code",
      "source": [
        "print(\"4. On which stations does each client operate?\")\n",
        "\n",
        "clean_data.groupby(['client_id', 'station_id']).size().reset_index()\n"
      ],
      "metadata": {
        "colab": {
          "base_uri": "https://localhost:8080/",
          "height": 474
        },
        "id": "F_k9kvflThZF",
        "outputId": "b392cfcb-b2cf-4111-d10a-ce375f987cef"
      },
      "execution_count": 35,
      "outputs": [
        {
          "output_type": "stream",
          "name": "stdout",
          "text": [
            "4. On which stations does each client operate?\n"
          ]
        },
        {
          "output_type": "execute_result",
          "data": {
            "text/plain": [
              "    client_id  station_id       0\n",
              "0           0           3   58457\n",
              "1           0           5   29227\n",
              "2           1           3  882016\n",
              "3           1           5  279780\n",
              "4           1           9  161202\n",
              "5           2           1  148400\n",
              "6           2           4  457212\n",
              "7           2           8  156287\n",
              "8           3           3   26847\n",
              "9           3           5   13422\n",
              "10          4           2     400\n",
              "11          4           6     400\n",
              "12          4           7     200"
            ],
            "text/html": [
              "\n",
              "  <div id=\"df-67681a8b-8f23-41de-b764-339e7b07e923\">\n",
              "    <div class=\"colab-df-container\">\n",
              "      <div>\n",
              "<style scoped>\n",
              "    .dataframe tbody tr th:only-of-type {\n",
              "        vertical-align: middle;\n",
              "    }\n",
              "\n",
              "    .dataframe tbody tr th {\n",
              "        vertical-align: top;\n",
              "    }\n",
              "\n",
              "    .dataframe thead th {\n",
              "        text-align: right;\n",
              "    }\n",
              "</style>\n",
              "<table border=\"1\" class=\"dataframe\">\n",
              "  <thead>\n",
              "    <tr style=\"text-align: right;\">\n",
              "      <th></th>\n",
              "      <th>client_id</th>\n",
              "      <th>station_id</th>\n",
              "      <th>0</th>\n",
              "    </tr>\n",
              "  </thead>\n",
              "  <tbody>\n",
              "    <tr>\n",
              "      <th>0</th>\n",
              "      <td>0</td>\n",
              "      <td>3</td>\n",
              "      <td>58457</td>\n",
              "    </tr>\n",
              "    <tr>\n",
              "      <th>1</th>\n",
              "      <td>0</td>\n",
              "      <td>5</td>\n",
              "      <td>29227</td>\n",
              "    </tr>\n",
              "    <tr>\n",
              "      <th>2</th>\n",
              "      <td>1</td>\n",
              "      <td>3</td>\n",
              "      <td>882016</td>\n",
              "    </tr>\n",
              "    <tr>\n",
              "      <th>3</th>\n",
              "      <td>1</td>\n",
              "      <td>5</td>\n",
              "      <td>279780</td>\n",
              "    </tr>\n",
              "    <tr>\n",
              "      <th>4</th>\n",
              "      <td>1</td>\n",
              "      <td>9</td>\n",
              "      <td>161202</td>\n",
              "    </tr>\n",
              "    <tr>\n",
              "      <th>5</th>\n",
              "      <td>2</td>\n",
              "      <td>1</td>\n",
              "      <td>148400</td>\n",
              "    </tr>\n",
              "    <tr>\n",
              "      <th>6</th>\n",
              "      <td>2</td>\n",
              "      <td>4</td>\n",
              "      <td>457212</td>\n",
              "    </tr>\n",
              "    <tr>\n",
              "      <th>7</th>\n",
              "      <td>2</td>\n",
              "      <td>8</td>\n",
              "      <td>156287</td>\n",
              "    </tr>\n",
              "    <tr>\n",
              "      <th>8</th>\n",
              "      <td>3</td>\n",
              "      <td>3</td>\n",
              "      <td>26847</td>\n",
              "    </tr>\n",
              "    <tr>\n",
              "      <th>9</th>\n",
              "      <td>3</td>\n",
              "      <td>5</td>\n",
              "      <td>13422</td>\n",
              "    </tr>\n",
              "    <tr>\n",
              "      <th>10</th>\n",
              "      <td>4</td>\n",
              "      <td>2</td>\n",
              "      <td>400</td>\n",
              "    </tr>\n",
              "    <tr>\n",
              "      <th>11</th>\n",
              "      <td>4</td>\n",
              "      <td>6</td>\n",
              "      <td>400</td>\n",
              "    </tr>\n",
              "    <tr>\n",
              "      <th>12</th>\n",
              "      <td>4</td>\n",
              "      <td>7</td>\n",
              "      <td>200</td>\n",
              "    </tr>\n",
              "  </tbody>\n",
              "</table>\n",
              "</div>\n",
              "      <button class=\"colab-df-convert\" onclick=\"convertToInteractive('df-67681a8b-8f23-41de-b764-339e7b07e923')\"\n",
              "              title=\"Convert this dataframe to an interactive table.\"\n",
              "              style=\"display:none;\">\n",
              "        \n",
              "  <svg xmlns=\"http://www.w3.org/2000/svg\" height=\"24px\"viewBox=\"0 0 24 24\"\n",
              "       width=\"24px\">\n",
              "    <path d=\"M0 0h24v24H0V0z\" fill=\"none\"/>\n",
              "    <path d=\"M18.56 5.44l.94 2.06.94-2.06 2.06-.94-2.06-.94-.94-2.06-.94 2.06-2.06.94zm-11 1L8.5 8.5l.94-2.06 2.06-.94-2.06-.94L8.5 2.5l-.94 2.06-2.06.94zm10 10l.94 2.06.94-2.06 2.06-.94-2.06-.94-.94-2.06-.94 2.06-2.06.94z\"/><path d=\"M17.41 7.96l-1.37-1.37c-.4-.4-.92-.59-1.43-.59-.52 0-1.04.2-1.43.59L10.3 9.45l-7.72 7.72c-.78.78-.78 2.05 0 2.83L4 21.41c.39.39.9.59 1.41.59.51 0 1.02-.2 1.41-.59l7.78-7.78 2.81-2.81c.8-.78.8-2.07 0-2.86zM5.41 20L4 18.59l7.72-7.72 1.47 1.35L5.41 20z\"/>\n",
              "  </svg>\n",
              "      </button>\n",
              "      \n",
              "  <style>\n",
              "    .colab-df-container {\n",
              "      display:flex;\n",
              "      flex-wrap:wrap;\n",
              "      gap: 12px;\n",
              "    }\n",
              "\n",
              "    .colab-df-convert {\n",
              "      background-color: #E8F0FE;\n",
              "      border: none;\n",
              "      border-radius: 50%;\n",
              "      cursor: pointer;\n",
              "      display: none;\n",
              "      fill: #1967D2;\n",
              "      height: 32px;\n",
              "      padding: 0 0 0 0;\n",
              "      width: 32px;\n",
              "    }\n",
              "\n",
              "    .colab-df-convert:hover {\n",
              "      background-color: #E2EBFA;\n",
              "      box-shadow: 0px 1px 2px rgba(60, 64, 67, 0.3), 0px 1px 3px 1px rgba(60, 64, 67, 0.15);\n",
              "      fill: #174EA6;\n",
              "    }\n",
              "\n",
              "    [theme=dark] .colab-df-convert {\n",
              "      background-color: #3B4455;\n",
              "      fill: #D2E3FC;\n",
              "    }\n",
              "\n",
              "    [theme=dark] .colab-df-convert:hover {\n",
              "      background-color: #434B5C;\n",
              "      box-shadow: 0px 1px 3px 1px rgba(0, 0, 0, 0.15);\n",
              "      filter: drop-shadow(0px 1px 2px rgba(0, 0, 0, 0.3));\n",
              "      fill: #FFFFFF;\n",
              "    }\n",
              "  </style>\n",
              "\n",
              "      <script>\n",
              "        const buttonEl =\n",
              "          document.querySelector('#df-67681a8b-8f23-41de-b764-339e7b07e923 button.colab-df-convert');\n",
              "        buttonEl.style.display =\n",
              "          google.colab.kernel.accessAllowed ? 'block' : 'none';\n",
              "\n",
              "        async function convertToInteractive(key) {\n",
              "          const element = document.querySelector('#df-67681a8b-8f23-41de-b764-339e7b07e923');\n",
              "          const dataTable =\n",
              "            await google.colab.kernel.invokeFunction('convertToInteractive',\n",
              "                                                     [key], {});\n",
              "          if (!dataTable) return;\n",
              "\n",
              "          const docLinkHtml = 'Like what you see? Visit the ' +\n",
              "            '<a target=\"_blank\" href=https://colab.research.google.com/notebooks/data_table.ipynb>data table notebook</a>'\n",
              "            + ' to learn more about interactive tables.';\n",
              "          element.innerHTML = '';\n",
              "          dataTable['output_type'] = 'display_data';\n",
              "          await google.colab.output.renderOutput(dataTable, element);\n",
              "          const docLink = document.createElement('div');\n",
              "          docLink.innerHTML = docLinkHtml;\n",
              "          element.appendChild(docLink);\n",
              "        }\n",
              "      </script>\n",
              "    </div>\n",
              "  </div>\n",
              "  "
            ]
          },
          "metadata": {},
          "execution_count": 35
        }
      ]
    },
    {
      "cell_type": "code",
      "source": [
        "print(\"5. Number of packages (cumulative) that each station has processed over time.\")\n",
        "counts = clean_data.sort_values('scheduled_date').groupby(['scheduled_date', 'station_id']).size().cumsum().reset_index(name=\"cumulative_count\")\n",
        "stations = clean_data.station_id.unique()\n",
        "\n",
        "fig, ax = plt.subplots()\n",
        "\n",
        "for station_id in stations:\n",
        "  ax = counts.loc[counts['station_id'] == station_id].plot(x='scheduled_date', y='cumulative_count', label=station_id, ax=ax)\n",
        "\n",
        "ax.legend()\n",
        "\n",
        "plt.show()\n"
      ],
      "metadata": {
        "colab": {
          "base_uri": "https://localhost:8080/",
          "height": 549
        },
        "id": "l-KZ0AtHVbGy",
        "outputId": "1f404939-6a84-46c9-e72b-892ec01d8139"
      },
      "execution_count": 64,
      "outputs": [
        {
          "output_type": "stream",
          "name": "stdout",
          "text": [
            "5. Number of packages (cumulative) that each station has processed over time.\n",
            "          scheduled_date  station_id  cumulative_count\n",
            "0    2017-01-05 07:00:00           3              1569\n",
            "1    2017-01-05 07:00:00           4              2757\n",
            "2    2017-01-10 15:00:00           4              2997\n",
            "3    2017-01-10 16:52:00           4              3237\n",
            "4    2017-01-10 20:30:00           3              3621\n",
            "...                  ...         ...               ...\n",
            "9104 2019-09-20 16:00:00           4           2212897\n",
            "9105 2019-09-20 18:40:00           1           2213135\n",
            "9106 2019-09-20 23:00:00           4           2213373\n",
            "9107 2019-09-21 07:25:00           1           2213612\n",
            "9108 2019-09-22 19:00:00           1           2213850\n",
            "\n",
            "[9109 rows x 3 columns]\n"
          ]
        },
        {
          "output_type": "display_data",
          "data": {
            "text/plain": [
              "<Figure size 432x288 with 1 Axes>"
            ],
            "image/png": "[encoded data removed]"
          },
          "metadata": {
            "needs_background": "light"
          }
        }
      ]
    },
    {
      "cell_type": "markdown",
      "metadata": {
        "id": "V4mfocVN9pKf"
      },
      "source": [
        "## Advanced results\n",
        "\n",
        "* Identification of stations\n",
        "    The sources and destinations that appear in the data correspond to platforms of the different stations. For example, LOCATION 19 is a platform of STATION 8. The task consists of creating two new columns, origin_station and destination_station obtained from identifying which locations correspond to each station. \n",
        "\n",
        "    Tip: This is an exploration task that can be done in several ways, one way to start is with the meaning of events. The event \" LLEGADA A DESTINO DE VAGONES \" is always recorded at the destination station of an item.\n",
        "\n",
        "\n",
        "* Processes: \n",
        "    The life cycle of each package can be viewed as a sequence of states representing the logistics process.\n",
        "    * How many different process sequences appear in the data? Which one or which are correct?\n",
        "    * Among those that are correct, which are the most frequent?\n",
        "    * How could you correct the wrong ones?\n",
        "\n",
        "**Optional**"
      ]
    },
    {
      "cell_type": "code",
      "execution_count": null,
      "metadata": {
        "id": "LjgIwbUv9pKg"
      },
      "outputs": [],
      "source": []
    }
  ],
  "metadata": {
    "kernelspec": {
      "display_name": "Python 3.9.7 64-bit",
      "language": "python",
      "name": "python3"
    },
    "language_info": {
      "codemirror_mode": {
        "name": "ipython",
        "version": 3
      },
      "file_extension": ".py",
      "mimetype": "text/x-python",
      "name": "python",
      "nbconvert_exporter": "python",
      "pygments_lexer": "ipython3",
      "version": "3.9.7"
    },
    "vscode": {
      "interpreter": {
        "hash": "c0de1fe606f85d3f2aa9a903f2b0bf89b43d937b91ee737bd06cf0188ff610aa"
      }
    },
    "colab": {
      "provenance": []
    }
  },
  "nbformat": 4,
  "nbformat_minor": 0
}